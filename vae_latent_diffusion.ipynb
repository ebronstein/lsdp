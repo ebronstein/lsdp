{
 "cells": [
  {
   "cell_type": "code",
   "execution_count": 1,
   "id": "a36a3146",
   "metadata": {},
   "outputs": [],
   "source": [
    "import os\n",
    "import sys\n",
    "from typing import Optional\n",
    "\n",
    "if \"PyTorch_VAE\" not in sys.path:\n",
    "    sys.path.append(\"PyTorch_VAE\")\n",
    "\n",
    "import numpy as np\n",
    "import torch\n",
    "import torch.nn as nn\n",
    "import matplotlib.pyplot as plt\n",
    "from tqdm import trange\n",
    "\n",
    "from PyTorch_VAE import models\n",
    "from diffusion_policy.common.pytorch_util import compute_conv_output_shape\n",
    "from diffusion_policy.dataset.pusht_image_dataset import PushTImageDataset"
   ]
  },
  {
   "cell_type": "code",
   "execution_count": 2,
   "id": "0872279d",
   "metadata": {},
   "outputs": [],
   "source": [
    "path = \"/nas/ucb/ebronstein/lsdp/diffusion_policy/data/pusht/pusht_cchi_v7_replay.zarr\"\n",
    "# path = \"/home/tsadja/data_diffusion/pusht/pusht_cchi_v7_replay.zarr\"\n",
    "\n",
    "dataset = PushTImageDataset(path)\n",
    "full_dataset = torch.from_numpy(dataset.replay_buffer[\"img\"]).permute(0, 3, 1, 2)"
   ]
  },
  {
   "cell_type": "code",
   "execution_count": 3,
   "id": "79ec2083",
   "metadata": {},
   "outputs": [],
   "source": [
    "def normalize(data):\n",
    "    data /= 255.0\n",
    "    data = 2 * data - 1\n",
    "    return data\n",
    "\n",
    "\n",
    "def unnormalize(data):\n",
    "    data = (data + 1) / 2\n",
    "    data *= 255\n",
    "    return data"
   ]
  },
  {
   "cell_type": "code",
   "execution_count": 4,
   "id": "ce31b32f",
   "metadata": {},
   "outputs": [],
   "source": [
    "class VanillaVAE(models.VanillaVAE):\n",
    "\n",
    "    def __init__(\n",
    "        self,\n",
    "        in_channels: int,\n",
    "        in_height: int,\n",
    "        in_width: int,\n",
    "        latent_dim: int,\n",
    "        hidden_dims: Optional[list] = None,\n",
    "        **kwargs\n",
    "    ) -> None:\n",
    "        models.BaseVAE.__init__(self)\n",
    "\n",
    "        self.latent_dim = latent_dim\n",
    "\n",
    "        modules = []\n",
    "        if hidden_dims is None:\n",
    "            hidden_dims = [32, 64, 128, 256, 512]\n",
    "\n",
    "        # Build Encoder\n",
    "        kernel_size = 3\n",
    "        stride = 2\n",
    "        padding = 1\n",
    "        dilation = 1\n",
    "        for h_dim in hidden_dims:\n",
    "            modules.append(\n",
    "                nn.Sequential(\n",
    "                    nn.Conv2d(\n",
    "                        in_channels,\n",
    "                        out_channels=h_dim,\n",
    "                        kernel_size=kernel_size,\n",
    "                        stride=stride,\n",
    "                        padding=padding,\n",
    "                        dilation=dilation,\n",
    "                    ),\n",
    "                    nn.BatchNorm2d(h_dim),\n",
    "                    nn.LeakyReLU(),\n",
    "                )\n",
    "            )\n",
    "            in_channels = h_dim\n",
    "\n",
    "        self.conv_out_shape = compute_conv_output_shape(\n",
    "            H=in_height,\n",
    "            W=in_width,\n",
    "            padding=padding,\n",
    "            stride=stride,\n",
    "            kernel_size=kernel_size,\n",
    "            dilation=dilation,\n",
    "            num_layers=len(hidden_dims),\n",
    "            last_hidden_dim=hidden_dims[-1],\n",
    "        )\n",
    "        conv_out_size = np.prod(self.conv_out_shape)\n",
    "\n",
    "        self.encoder = nn.Sequential(*modules)\n",
    "        self.fc_mu = nn.Linear(conv_out_size, latent_dim)\n",
    "        self.fc_var = nn.Linear(conv_out_size, latent_dim)\n",
    "\n",
    "        # Build Decoder\n",
    "        modules = []\n",
    "\n",
    "        self.decoder_input = nn.Linear(latent_dim, conv_out_size)\n",
    "\n",
    "        hidden_dims.reverse()\n",
    "\n",
    "        for i in range(len(hidden_dims) - 1):\n",
    "            modules.append(\n",
    "                nn.Sequential(\n",
    "                    nn.ConvTranspose2d(\n",
    "                        hidden_dims[i],\n",
    "                        hidden_dims[i + 1],\n",
    "                        kernel_size=3,\n",
    "                        stride=2,\n",
    "                        padding=1,\n",
    "                        output_padding=1,\n",
    "                    ),\n",
    "                    nn.BatchNorm2d(hidden_dims[i + 1]),\n",
    "                    nn.LeakyReLU(),\n",
    "                )\n",
    "            )\n",
    "\n",
    "        self.decoder = nn.Sequential(*modules)\n",
    "\n",
    "        self.final_layer = nn.Sequential(\n",
    "            nn.ConvTranspose2d(\n",
    "                hidden_dims[-1],\n",
    "                hidden_dims[-1],\n",
    "                kernel_size=3,\n",
    "                stride=2,\n",
    "                padding=1,\n",
    "                output_padding=1,\n",
    "            ),\n",
    "            nn.BatchNorm2d(hidden_dims[-1]),\n",
    "            nn.LeakyReLU(),\n",
    "            nn.Conv2d(hidden_dims[-1], out_channels=3, kernel_size=3, padding=1),\n",
    "            nn.Tanh(),\n",
    "        )\n",
    "\n",
    "    def decode(self, z: torch.Tensor) -> torch.Tensor:\n",
    "        \"\"\"\n",
    "        Maps the given latent codes\n",
    "        onto the image space.\n",
    "        :param z: (Tensor) [B x D]\n",
    "        :return: (Tensor) [B x C x H x W]\n",
    "        \"\"\"\n",
    "        result = self.decoder_input(z)\n",
    "        result = result.view(-1, *self.conv_out_shape)\n",
    "        result = self.decoder(result)\n",
    "        result = self.final_layer(result)\n",
    "        return result"
   ]
  },
  {
   "cell_type": "code",
   "execution_count": 4,
   "id": "3271409a",
   "metadata": {},
   "outputs": [],
   "source": [
    "from vae.pusht_vae import VanillaVAE"
   ]
  },
  {
   "cell_type": "code",
   "execution_count": 5,
   "id": "e6d2fe57",
   "metadata": {},
   "outputs": [],
   "source": [
    "full_dataset = normalize(full_dataset)\n",
    "N, C, H, W = full_dataset.shape\n",
    "train_split = 0.8\n",
    "train_size = int(train_split * N)\n",
    "val_size = N - train_size\n",
    "train_dataset, val_dataset = torch.utils.data.random_split(\n",
    "    full_dataset, [train_size, val_size]\n",
    ")\n",
    "train_loader = torch.utils.data.DataLoader(train_dataset, batch_size=32, shuffle=True)\n",
    "val_loader = torch.utils.data.DataLoader(val_dataset, batch_size=32, shuffle=True)"
   ]
  },
  {
   "cell_type": "code",
   "execution_count": 6,
   "id": "5ba95ff2",
   "metadata": {},
   "outputs": [],
   "source": [
    "device = torch.device(\"cuda\" if torch.cuda.is_available() else \"cpu\")\n",
    "model = VanillaVAE(in_channels=3, in_height=H, in_width=W, latent_dim=32).to(device)\n",
    "optimizer = torch.optim.Adam(model.parameters(), lr=1e-3)"
   ]
  },
  {
   "cell_type": "code",
   "execution_count": 7,
   "id": "aa109673",
   "metadata": {},
   "outputs": [
    {
     "name": "stderr",
     "output_type": "stream",
     "text": [
      "  0%|          | 0/20 [00:00<?, ?it/s]"
     ]
    },
    {
     "name": "stdout",
     "output_type": "stream",
     "text": [
      "Train loss:\n",
      "0.014095829053407657\n"
     ]
    },
    {
     "name": "stderr",
     "output_type": "stream",
     "text": [
      "  5%|▌         | 1/20 [00:06<02:03,  6.51s/it]"
     ]
    },
    {
     "name": "stdout",
     "output_type": "stream",
     "text": [
      "Validation loss:\n",
      "0.005338332066254586\n",
      "Train loss:\n",
      "0.004667264720529457\n"
     ]
    },
    {
     "name": "stderr",
     "output_type": "stream",
     "text": [
      " 10%|█         | 2/20 [00:12<01:48,  6.00s/it]"
     ]
    },
    {
     "name": "stdout",
     "output_type": "stream",
     "text": [
      "Validation loss:\n",
      "0.004173565531577568\n",
      "Train loss:\n",
      "0.003900933558501396\n"
     ]
    },
    {
     "name": "stderr",
     "output_type": "stream",
     "text": [
      " 15%|█▌        | 3/20 [00:18<01:42,  6.02s/it]"
     ]
    },
    {
     "name": "stdout",
     "output_type": "stream",
     "text": [
      "Validation loss:\n",
      "0.0037405772976322757\n",
      "Train loss:\n",
      "0.003443529726386163\n"
     ]
    },
    {
     "name": "stderr",
     "output_type": "stream",
     "text": [
      " 20%|██        | 4/20 [00:24<01:39,  6.24s/it]"
     ]
    },
    {
     "name": "stdout",
     "output_type": "stream",
     "text": [
      "Validation loss:\n",
      "0.003387355644788061\n",
      "Train loss:\n",
      "0.003099666744821656\n"
     ]
    },
    {
     "name": "stderr",
     "output_type": "stream",
     "text": [
      " 25%|██▌       | 5/20 [00:30<01:30,  6.02s/it]"
     ]
    },
    {
     "name": "stdout",
     "output_type": "stream",
     "text": [
      "Validation loss:\n",
      "0.003011365465947097\n",
      "Train loss:\n",
      "0.002816350724783108\n"
     ]
    },
    {
     "name": "stderr",
     "output_type": "stream",
     "text": [
      " 30%|███       | 6/20 [00:36<01:22,  5.89s/it]"
     ]
    },
    {
     "name": "stdout",
     "output_type": "stream",
     "text": [
      "Validation loss:\n",
      "0.00281707482464519\n",
      "Train loss:\n",
      "0.002600190680505957\n"
     ]
    },
    {
     "name": "stderr",
     "output_type": "stream",
     "text": [
      " 35%|███▌      | 7/20 [00:41<01:15,  5.81s/it]"
     ]
    },
    {
     "name": "stdout",
     "output_type": "stream",
     "text": [
      "Validation loss:\n",
      "0.002636187907990924\n",
      "Train loss:\n",
      "0.0024374897194289345\n"
     ]
    },
    {
     "name": "stderr",
     "output_type": "stream",
     "text": [
      " 40%|████      | 8/20 [00:47<01:10,  5.88s/it]"
     ]
    },
    {
     "name": "stdout",
     "output_type": "stream",
     "text": [
      "Validation loss:\n",
      "0.002564836613058766\n",
      "Train loss:\n",
      "0.002285203858201807\n"
     ]
    },
    {
     "name": "stderr",
     "output_type": "stream",
     "text": [
      " 45%|████▌     | 9/20 [00:53<01:03,  5.80s/it]"
     ]
    },
    {
     "name": "stdout",
     "output_type": "stream",
     "text": [
      "Validation loss:\n",
      "0.002373206487029606\n",
      "Train loss:\n",
      "0.002164875472514278\n"
     ]
    },
    {
     "name": "stderr",
     "output_type": "stream",
     "text": [
      " 50%|█████     | 10/20 [00:59<00:57,  5.80s/it]"
     ]
    },
    {
     "name": "stdout",
     "output_type": "stream",
     "text": [
      "Validation loss:\n",
      "0.0022661214266319453\n",
      "Train loss:\n",
      "0.002048261843714573\n"
     ]
    },
    {
     "name": "stderr",
     "output_type": "stream",
     "text": [
      " 55%|█████▌    | 11/20 [01:05<00:52,  5.88s/it]"
     ]
    },
    {
     "name": "stdout",
     "output_type": "stream",
     "text": [
      "Validation loss:\n",
      "0.0021539712556122993\n",
      "Train loss:\n",
      "0.0019468039176658933\n"
     ]
    },
    {
     "name": "stderr",
     "output_type": "stream",
     "text": [
      " 60%|██████    | 12/20 [01:10<00:46,  5.85s/it]"
     ]
    },
    {
     "name": "stdout",
     "output_type": "stream",
     "text": [
      "Validation loss:\n",
      "0.0021222253888266984\n",
      "Train loss:\n",
      "0.0018719195872777348\n"
     ]
    },
    {
     "name": "stderr",
     "output_type": "stream",
     "text": [
      " 65%|██████▌   | 13/20 [01:16<00:40,  5.81s/it]"
     ]
    },
    {
     "name": "stdout",
     "output_type": "stream",
     "text": [
      "Validation loss:\n",
      "0.001991921386490605\n",
      "Train loss:\n",
      "0.0017780482691402237\n"
     ]
    },
    {
     "name": "stderr",
     "output_type": "stream",
     "text": [
      " 70%|███████   | 14/20 [01:22<00:34,  5.77s/it]"
     ]
    },
    {
     "name": "stdout",
     "output_type": "stream",
     "text": [
      "Validation loss:\n",
      "0.0020171052715538635\n",
      "Train loss:\n",
      "0.0017264197155110817\n"
     ]
    },
    {
     "name": "stderr",
     "output_type": "stream",
     "text": [
      " 75%|███████▌  | 15/20 [01:28<00:29,  5.89s/it]"
     ]
    },
    {
     "name": "stdout",
     "output_type": "stream",
     "text": [
      "Validation loss:\n",
      "0.0018762631084399749\n",
      "Train loss:\n",
      "0.0016535703559562773\n"
     ]
    },
    {
     "name": "stderr",
     "output_type": "stream",
     "text": [
      " 80%|████████  | 16/20 [01:34<00:23,  5.88s/it]"
     ]
    },
    {
     "name": "stdout",
     "output_type": "stream",
     "text": [
      "Validation loss:\n",
      "0.0018626531168112752\n",
      "Train loss:\n",
      "0.0016108734781253283\n"
     ]
    },
    {
     "name": "stderr",
     "output_type": "stream",
     "text": [
      " 85%|████████▌ | 17/20 [01:40<00:17,  5.86s/it]"
     ]
    },
    {
     "name": "stdout",
     "output_type": "stream",
     "text": [
      "Validation loss:\n",
      "0.0018257445602255485\n",
      "Train loss:\n",
      "0.001551161776586926\n"
     ]
    },
    {
     "name": "stderr",
     "output_type": "stream",
     "text": [
      " 90%|█████████ | 18/20 [01:46<00:11,  5.89s/it]"
     ]
    },
    {
     "name": "stdout",
     "output_type": "stream",
     "text": [
      "Validation loss:\n",
      "0.0017808146654738125\n",
      "Train loss:\n",
      "0.001507026672318311\n"
     ]
    },
    {
     "name": "stderr",
     "output_type": "stream",
     "text": [
      " 95%|█████████▌| 19/20 [01:51<00:05,  5.86s/it]"
     ]
    },
    {
     "name": "stdout",
     "output_type": "stream",
     "text": [
      "Validation loss:\n",
      "0.0017611870436599444\n",
      "Train loss:\n",
      "0.0014655940565411175\n"
     ]
    },
    {
     "name": "stderr",
     "output_type": "stream",
     "text": [
      "100%|██████████| 20/20 [01:57<00:00,  5.88s/it]"
     ]
    },
    {
     "name": "stdout",
     "output_type": "stream",
     "text": [
      "Validation loss:\n",
      "0.0017180004003833724\n"
     ]
    },
    {
     "name": "stderr",
     "output_type": "stream",
     "text": [
      "\n"
     ]
    }
   ],
   "source": [
    "epochs = 20\n",
    "\n",
    "for epoch in trange(epochs):\n",
    "    total_train_loss = 0\n",
    "    model.train()\n",
    "    for i, x in enumerate(train_loader):\n",
    "        x = x.to(device)\n",
    "        result = model(x)\n",
    "        loss = model.loss_function(*result, M_N=1e-6)[\"loss\"]\n",
    "        # loss = loss['loss']\n",
    "        total_train_loss += loss.item()\n",
    "        optimizer.zero_grad()\n",
    "        loss.backward()\n",
    "        optimizer.step()\n",
    "    print(\"Train loss:\")\n",
    "    print(total_train_loss / len(train_loader))\n",
    "\n",
    "    total_val_loss = 0\n",
    "    model.eval()\n",
    "    with torch.no_grad():\n",
    "        for i, x in enumerate(val_loader):\n",
    "            x = x.to(device)\n",
    "            result = model(x)\n",
    "            loss = model.loss_function(*result, M_N=1e-6)[\"loss\"]\n",
    "            total_val_loss += loss.item()\n",
    "    print(\"Validation loss:\")\n",
    "    print(total_val_loss / len(val_loader))"
   ]
  },
  {
   "cell_type": "code",
   "execution_count": 8,
   "id": "127ed7c4",
   "metadata": {},
   "outputs": [
    {
     "data": {
      "image/png": "[encoded data removed]",
      "text/plain": [
       "<Figure size 1000x1000 with 20 Axes>"
      ]
     },
     "metadata": {},
     "output_type": "display_data"
    }
   ],
   "source": [
    "def show_reconstructions(model: VanillaVAE, val_loader: torch.utils.data.DataLoader):\n",
    "    val_data = next(iter(val_loader))\n",
    "    num_samples = 10\n",
    "    val_data = val_data.to(device)\n",
    "    result = model(val_data)\n",
    "    recon = result[0]\n",
    "    recon = unnormalize(recon)\n",
    "    val_data = unnormalize(val_data)\n",
    "\n",
    "    fig, ax = plt.subplots(num_samples, 2)\n",
    "    fig.set_size_inches(10, 10)\n",
    "    for i in range(num_samples):\n",
    "        ax[i, 0].imshow(\n",
    "            val_data[i].permute(1, 2, 0).cpu().detach().numpy().astype(np.uint8)\n",
    "        )\n",
    "        ax[i, 1].imshow(\n",
    "            recon[i].permute(1, 2, 0).cpu().detach().numpy().astype(np.uint8)\n",
    "        )\n",
    "    plt.show()\n",
    "\n",
    "\n",
    "show_reconstructions(model, val_loader)"
   ]
  },
  {
   "cell_type": "code",
   "execution_count": 10,
   "id": "ceee958e",
   "metadata": {},
   "outputs": [],
   "source": [
    "# Save the model\n",
    "# save_dir = \"models/pusht_vae\"\n",
    "# if not os.path.exists(save_dir):\n",
    "#     os.makedirs(save_dir)\n",
    "# torch.save(model.state_dict(), os.path.join(save_dir, \"vae_32_20240403.pt\"))"
   ]
  },
  {
   "cell_type": "code",
   "execution_count": 7,
   "id": "837db8f3",
   "metadata": {},
   "outputs": [
    {
     "data": {
      "text/plain": [
       "<All keys matched successfully>"
      ]
     },
     "execution_count": 7,
     "metadata": {},
     "output_type": "execute_result"
    }
   ],
   "source": [
    "# Load the VAE\n",
    "model = VanillaVAE(in_channels=3, in_height=H, in_width=W, latent_dim=32).to(device)\n",
    "save_dir = \"models/pusht_vae\"\n",
    "model.load_state_dict(torch.load(os.path.join(save_dir, \"vae_32_20240403.pt\")))"
   ]
  },
  {
   "cell_type": "code",
   "execution_count": 11,
   "id": "09a58717",
   "metadata": {},
   "outputs": [],
   "source": [
    "# Encode the full dataset\n",
    "model.eval()\n",
    "with torch.no_grad():\n",
    "    mu, log_var = model.encode(full_dataset.to(device))\n",
    "    mu = mu.cpu().detach().numpy()\n",
    "    log_var = log_var.cpu().detach().numpy()"
   ]
  },
  {
   "cell_type": "code",
   "execution_count": 12,
   "id": "61dccab4",
   "metadata": {},
   "outputs": [
    {
     "data": {
      "text/plain": [
       "((25650, 32), (25650, 32))"
      ]
     },
     "execution_count": 12,
     "metadata": {},
     "output_type": "execute_result"
    }
   ],
   "source": [
    "mu.shape, log_var.shape"
   ]
  }
 ],
 "metadata": {
  "kernelspec": {
   "display_name": "base",
   "language": "python",
   "name": "python3"
  },
  "language_info": {
   "codemirror_mode": {
    "name": "ipython",
    "version": 3
   },
   "file_extension": ".py",
   "mimetype": "text/x-python",
   "name": "python",
   "nbconvert_exporter": "python",
   "pygments_lexer": "ipython3",
   "version": "3.9.18"
  }
 },
 "nbformat": 4,
 "nbformat_minor": 5
}
