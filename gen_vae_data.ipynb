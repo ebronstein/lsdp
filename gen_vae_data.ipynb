{
 "cells": [
  {
   "cell_type": "markdown",
   "metadata": {},
   "source": [
    "# Imports"
   ]
  },
  {
   "cell_type": "code",
   "execution_count": 1,
   "metadata": {},
   "outputs": [],
   "source": [
    "import os\n",
    "import sys\n",
    "from datetime import datetime\n",
    "\n",
    "import numpy as np\n",
    "import matplotlib.pyplot as plt\n",
    "from tqdm.notebook import tqdm, trange\n",
    "\n",
    "from diffusion_policy.dataset.pusht_image_dataset import PushTImageDataset\n",
    "from diffusion_policy.env.pusht.pusht_image_env import PushTImageEnv"
   ]
  },
  {
   "cell_type": "code",
   "execution_count": 2,
   "metadata": {},
   "outputs": [
    {
     "name": "stdout",
     "output_type": "stream",
     "text": [
      "obs['image'].shape: (3, 96, 96) float32, [0,1]\n",
      "obs['agent_pos'].shape: (2,) float32, [0,512]\n",
      "action.shape:  (2,) float32, [0,512]\n"
     ]
    }
   ],
   "source": [
    "# 0. create env object\n",
    "env = PushTImageEnv()\n",
    "\n",
    "# 1. seed env for initial state.\n",
    "# Seed 0-200 are used for the demonstration dataset.\n",
    "seed = 0\n",
    "env.seed(seed)\n",
    "\n",
    "# 2. must reset before use\n",
    "obs = env.reset()\n",
    "\n",
    "# 3. 2D positional action space [0,512]\n",
    "action = env.action_space.sample()\n",
    "\n",
    "# 4. Standard gym step method\n",
    "obs, reward, terminated, truncated = env.step(action)\n",
    "\n",
    "# prints and explains each dimension of the observation and action vectors\n",
    "with np.printoptions(precision=4, suppress=True, threshold=5):\n",
    "    print(\"obs['image'].shape:\", obs[\"image\"].shape, \"float32, [0,1]\")\n",
    "    print(\"obs['agent_pos'].shape:\", obs[\"agent_pos\"].shape, \"float32, [0,512]\")\n",
    "    print(\"action.shape: \", action.shape, \"float32, [0,512]\")"
   ]
  },
  {
   "cell_type": "code",
   "execution_count": 39,
   "metadata": {},
   "outputs": [
    {
     "data": {
      "application/vnd.jupyter.widget-view+json": {
       "model_id": "c3d3f51205a54f80abf938468f7a8f99",
       "version_major": 2,
       "version_minor": 0
      },
      "text/plain": [
       "  0%|          | 0/100000 [00:00<?, ?it/s]"
      ]
     },
     "metadata": {},
     "output_type": "display_data"
    }
   ],
   "source": [
    "num_states = 100_000 # 500_000\n",
    "batch_size = 10_000\n",
    "\n",
    "root_save_dir = \"diffusion_policy/data/pusht/images\"\n",
    "timestamp = datetime.now().strftime(\"%Y%m%d-%H%M%S\")\n",
    "tag = f\"random_{num_states}\"\n",
    "save_dir = os.path.join(root_save_dir, tag, timestamp)\n",
    "if not os.path.exists(save_dir):\n",
    "    os.makedirs(save_dir)\n",
    "\n",
    "imgs = []\n",
    "start_idx = 0\n",
    "for cur_idx in trange(num_states):\n",
    "    state = env.random_state(None)\n",
    "    env._set_state(state)\n",
    "    img = env._get_obs()[\"image\"]\n",
    "    imgs.append(img)\n",
    "\n",
    "    if len(imgs) == batch_size:\n",
    "        imgs = np.array(imgs)\n",
    "        fname = f\"{start_idx}-{cur_idx}.npy\"\n",
    "        np.save(os.path.join(save_dir, fname), imgs)\n",
    "        imgs = []\n",
    "        start_idx = cur_idx + 1"
   ]
  }
 ],
 "metadata": {
  "kernelspec": {
   "display_name": "lsdp",
   "language": "python",
   "name": "python3"
  },
  "language_info": {
   "codemirror_mode": {
    "name": "ipython",
    "version": 3
   },
   "file_extension": ".py",
   "mimetype": "text/x-python",
   "name": "python",
   "nbconvert_exporter": "python",
   "pygments_lexer": "ipython3",
   "version": "3.9.18"
  }
 },
 "nbformat": 4,
 "nbformat_minor": 2
}
