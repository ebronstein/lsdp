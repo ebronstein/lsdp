{
 "cells": [
  {
   "cell_type": "markdown",
   "metadata": {},
   "source": [
    "# Imports"
   ]
  },
  {
   "cell_type": "code",
   "execution_count": 7,
   "metadata": {},
   "outputs": [],
   "source": [
    "import collections\n",
    "import datetime\n",
    "import functools\n",
    "import math\n",
    "import os\n",
    "import sys\n",
    "from typing import Callable, Optional\n",
    "\n",
    "if \"PyTorch_VAE\" not in sys.path:\n",
    "    sys.path.append(\"PyTorch_VAE\")\n",
    "\n",
    "import numpy as np\n",
    "import torch\n",
    "import torch.nn as nn\n",
    "import matplotlib.pyplot as plt\n",
    "from torch.utils.data import Dataset\n",
    "from tqdm.notebook import tqdm, trange\n",
    "\n",
    "from diffusion_policy.dataset.pusht_image_dataset import PushTImageDataset\n",
    "from diffusion_policy.model.diffusion import conditional_unet1d\n",
    "from inverse_dynamics import InverseDynamicsCNN\n",
    "from state_diffusion import Diffusion\n",
    "from utils import normalize_pn1, normalize_standard_normal\n",
    "from vae import VanillaVAE"
   ]
  },
  {
   "cell_type": "markdown",
   "metadata": {},
   "source": [
    "# Args"
   ]
  },
  {
   "cell_type": "code",
   "execution_count": 11,
   "metadata": {},
   "outputs": [],
   "source": [
    "device = \"cpu\"\n",
    "data_path = (\n",
    "    \"/nas/ucb/ebronstein/lsdp/diffusion_policy/data/pusht/pusht_cchi_v7_replay.zarr\"\n",
    ")\n",
    "\n",
    "# VAE\n",
    "vae_path = \"models/pusht_vae/vae_32_20240403.pt\"\n",
    "vae_latent_dim = 32\n",
    "\n",
    "# Diffusion\n",
    "diffusion_load_dir = \"models/diffusion/pusht_unet1d_img_128_256_512_1024_edim_256_obs_8_pred_8_bs_256_lr_0.0003_e_250_ema_norm_latent_uniform/2024-05-06_01-09-27\"\n",
    "n_obs_history = 8\n",
    "n_pred_horizon = 8\n",
    "diffusion_step_embed_dim = 256\n",
    "normalize_latent = \"uniform\"\n",
    "use_ema_helper = True\n",
    "lr = 3e-4\n",
    "\n",
    "# Inverse dynamics\n",
    "inv_dyn_path = \"models/inverse_dynamics/pusht_cnn-img-obs_5-bs_256-lr_0.0001-epochs_10-train_on_recon_True-latent_dim_32/2024-05-06_16-57-18/inverse_dynamics_final.pt\"\n",
    "inv_dyn_n_obs_history = 5"
   ]
  },
  {
   "cell_type": "markdown",
   "metadata": {},
   "source": [
    "# Load dataset"
   ]
  },
  {
   "cell_type": "code",
   "execution_count": 3,
   "metadata": {},
   "outputs": [],
   "source": [
    "dataset = PushTImageDataset(data_path)"
   ]
  },
  {
   "cell_type": "markdown",
   "metadata": {},
   "source": [
    "# Load models"
   ]
  },
  {
   "cell_type": "code",
   "execution_count": 4,
   "metadata": {},
   "outputs": [
    {
     "data": {
      "text/plain": [
       "<All keys matched successfully>"
      ]
     },
     "execution_count": 4,
     "metadata": {},
     "output_type": "execute_result"
    }
   ],
   "source": [
    "# Load the VAE\n",
    "img_data = (\n",
    "    torch.from_numpy(dataset.replay_buffer[\"img\"]).permute(0, 3, 1, 2).float()\n",
    ")\n",
    "N, C, H, W = img_data.shape\n",
    "vae = VanillaVAE(in_channels=C, in_height=H, in_width=W, latent_dim=vae_latent_dim).to(\n",
    "    device\n",
    ")\n",
    "vae.load_state_dict(torch.load(vae_path))"
   ]
  },
  {
   "cell_type": "code",
   "execution_count": 5,
   "metadata": {},
   "outputs": [],
   "source": [
    "# Load the diffusion model.\n",
    "if n_pred_horizon == 1:\n",
    "    down_dims = [128, 256]\n",
    "elif n_pred_horizon == 4:\n",
    "    down_dims = [128, 256, 512]\n",
    "elif n_pred_horizon == 8:\n",
    "    down_dims = [128, 256, 512, 1024]\n",
    "else:\n",
    "    raise NotImplementedError()\n",
    "\n",
    "STATE_DIM = vae_latent_dim\n",
    "global_cond_dim = STATE_DIM * n_obs_history\n",
    "diff_model = conditional_unet1d.ConditionalUnet1D(\n",
    "    input_dim=STATE_DIM,\n",
    "    down_dims=down_dims,\n",
    "    diffusion_step_embed_dim=diffusion_step_embed_dim,\n",
    "    global_cond_dim=global_cond_dim,\n",
    ").to(device)\n",
    "\n",
    "# Make the observation normalizer.\n",
    "if normalize_latent == \"uniform\":\n",
    "    latent_min = np.load(os.path.join(diffusion_load_dir, \"latent_min.npy\"))\n",
    "    latent_max = np.load(os.path.join(diffusion_load_dir, \"latent_max.npy\"))\n",
    "    obs_normalizer = functools.partial(\n",
    "        normalize_pn1,\n",
    "        min_val=torch.tensor(latent_min, dtype=torch.float32, device=device),\n",
    "        max_val=torch.tensor(latent_max, dtype=torch.float32, device=device),\n",
    "    )\n",
    "elif normalize_latent == \"standard_normal\":\n",
    "    latent_mean = np.load(os.path.join(diffusion_load_dir, \"latent_mean.npy\"))\n",
    "    latent_std = np.load(os.path.join(diffusion_load_dir, \"latent_std.npy\"))\n",
    "    obs_normalizer = functools.partial(\n",
    "        normalize_standard_normal,\n",
    "        mean=torch.tensor(latent_mean, dtype=torch.float32, device=device),\n",
    "        std=torch.tensor(latent_std, dtype=torch.float32, device=device),\n",
    "    )\n",
    "else:\n",
    "    raise NotImplementedError()\n",
    "\n",
    "optim_kwargs = dict(lr=lr)\n",
    "diffusion = Diffusion(\n",
    "    train_data=None,\n",
    "    test_data=None,\n",
    "    obs_normalizer=obs_normalizer,\n",
    "    model=diff_model,\n",
    "    n_epochs=0,\n",
    "    optim_kwargs=optim_kwargs,\n",
    "    device=device,\n",
    "    use_ema_helper=use_ema_helper,\n",
    ")"
   ]
  },
  {
   "cell_type": "code",
   "execution_count": 12,
   "metadata": {},
   "outputs": [
    {
     "data": {
      "text/plain": [
       "<All keys matched successfully>"
      ]
     },
     "execution_count": 12,
     "metadata": {},
     "output_type": "execute_result"
    }
   ],
   "source": [
    "# Load the inverse dynamics model.\n",
    "\n",
    "hidden_dims = None\n",
    "N, H, W, C = dataset.replay_buffer[\"img\"].shape\n",
    "N, action_dim = dataset.replay_buffer[\"action\"].shape\n",
    "inv_dyn_model = InverseDynamicsCNN(\n",
    "    C, H, W, action_dim, inv_dyn_n_obs_history, hidden_dims=hidden_dims\n",
    ").to(device)\n",
    "\n",
    "inv_dyn_model.load_state_dict(torch.load(inv_dyn_path))"
   ]
  },
  {
   "cell_type": "code",
   "execution_count": null,
   "metadata": {},
   "outputs": [],
   "source": []
  }
 ],
 "metadata": {
  "kernelspec": {
   "display_name": "lsdp",
   "language": "python",
   "name": "python3"
  },
  "language_info": {
   "codemirror_mode": {
    "name": "ipython",
    "version": 3
   },
   "file_extension": ".py",
   "mimetype": "text/x-python",
   "name": "python",
   "nbconvert_exporter": "python",
   "pygments_lexer": "ipython3",
   "version": "3.9.18"
  }
 },
 "nbformat": 4,
 "nbformat_minor": 2
}
