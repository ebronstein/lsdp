{
 "cells": [
  {
   "cell_type": "markdown",
   "id": "d8fd3e4e",
   "metadata": {},
   "source": [
    "# Imports"
   ]
  },
  {
   "cell_type": "code",
   "execution_count": 17,
   "id": "a36a3146",
   "metadata": {},
   "outputs": [],
   "source": [
    "import datetime\n",
    "import functools\n",
    "import os\n",
    "import sys\n",
    "from typing import Callable, Optional\n",
    "\n",
    "if \"PyTorch_VAE\" not in sys.path:\n",
    "    sys.path.append(\"PyTorch_VAE\")\n",
    "\n",
    "import numpy as np\n",
    "import torch\n",
    "import torch.nn as nn\n",
    "import matplotlib.pyplot as plt\n",
    "from torch.utils.data import Dataset\n",
    "from tqdm.notebook import tqdm, trange\n",
    "\n",
    "from PyTorch_VAE import models\n",
    "from diffusion_policy.common.sampler import get_val_mask\n",
    "from diffusion_policy.dataset.pusht_image_dataset import PushTImageDataset"
   ]
  },
  {
   "cell_type": "markdown",
   "id": "b1be489f",
   "metadata": {},
   "source": [
    "# Plotting"
   ]
  },
  {
   "cell_type": "code",
   "execution_count": 18,
   "id": "4a8cb3fe",
   "metadata": {},
   "outputs": [],
   "source": [
    "def plot_losses(train_losses, test_losses):\n",
    "    # Plot train and test losses.\n",
    "    plt.figure(figsize=(12, 6))\n",
    "    plt.plot(train_losses, label=\"Train Loss\")\n",
    "    plt.plot(\n",
    "        np.linspace(0, len(train_losses), len(test_losses)),\n",
    "        test_losses,\n",
    "        label=\"Test Loss\",\n",
    "    )\n",
    "    # Remove outliers for better visualization\n",
    "    # plt.ylim(0, 0.01)\n",
    "    plt.xlabel(\"Iterations\")\n",
    "    plt.ylabel(\"Loss\")\n",
    "    plt.legend()\n",
    "    plt.show()"
   ]
  },
  {
   "cell_type": "markdown",
   "id": "86488006",
   "metadata": {},
   "source": [
    "# Load dataset"
   ]
  },
  {
   "cell_type": "code",
   "execution_count": 19,
   "id": "0872279d",
   "metadata": {},
   "outputs": [],
   "source": [
    "path = \"/nas/ucb/ebronstein/lsdp/diffusion_policy/data/pusht/pusht_cchi_v7_replay.zarr\"\n",
    "# path = \"/home/tsadja/data_diffusion/pusht/pusht_cchi_v7_replay.zarr\"\n",
    "# path = '/home/matteogu/ssd_data/data_diffusion/pusht/pusht_cchi_v7_replay.zarr'\n",
    "\n",
    "dataset = PushTImageDataset(path)\n",
    "full_dataset = torch.from_numpy(dataset.replay_buffer[\"img\"]).permute(0, 3, 1, 2)"
   ]
  },
  {
   "cell_type": "code",
   "execution_count": 20,
   "id": "478eb179",
   "metadata": {},
   "outputs": [],
   "source": [
    "def normalize_pn1(x, min_val, max_val):\n",
    "    # Normalize to [0, 1]\n",
    "    nx = (x - min_val) / (max_val - min_val)\n",
    "    # Normalize to [-1, 1]\n",
    "    return nx * 2 - 1\n",
    "\n",
    "\n",
    "def denormalize_pn1(nx, min_val, max_val):\n",
    "    # Denormalize from [-1, 1]\n",
    "    x = (nx + 1) / 2\n",
    "    # Denormalize from [0, 1]\n",
    "    return x * (max_val - min_val) + min_val\n",
    "\n",
    "\n",
    "# Make the state normalizer.\n",
    "max_state = dataset.replay_buffer[\"state\"].max(axis=0)\n",
    "min_state = np.zeros_like(max_state)"
   ]
  },
  {
   "cell_type": "code",
   "execution_count": 21,
   "id": "b2092758",
   "metadata": {},
   "outputs": [],
   "source": [
    "class EpisodeDataset(Dataset):\n",
    "    def __init__(\n",
    "        self,\n",
    "        dataset,\n",
    "        n_obs_history=1,\n",
    "        n_pred_horizon=1,\n",
    "        episode_idxs=None,\n",
    "        include_keys: Optional[list[str]] = None,\n",
    "        process_fns: Optional[dict[str, Callable]] = None,\n",
    "        device: str = \"cpu\",\n",
    "    ):\n",
    "        \"\"\"\n",
    "        Initialize the dataset with the main dataset object that contains\n",
    "        the replay_buffer. Also, specify the lengths of observation history\n",
    "        and prediction horizon.\n",
    "        \"\"\"\n",
    "        self.dataset = dataset\n",
    "        self.n_obs_history = n_obs_history\n",
    "        self.n_pred_horizon = n_pred_horizon\n",
    "        self.episode_idxs = list(episode_idxs)\n",
    "        self.include_keys = set(include_keys) if include_keys is not None else None\n",
    "        if not self.include_keys:\n",
    "            raise ValueError(\"At least one key must be included in the dataset.\")\n",
    "        self.process_fns = process_fns\n",
    "        self.device = device\n",
    "        self.prepare_data()\n",
    "\n",
    "    def prepare_data(self):\n",
    "        \"\"\"\n",
    "        Preprocess the episodes to create a flat list of samples.\n",
    "        Each sample is a tuple of dictionaries: (obs_history, pred_horizon).\n",
    "        \"\"\"\n",
    "        self.samples = []\n",
    "\n",
    "        if self.episode_idxs is None:\n",
    "            self.episode_idxs = range(self.dataset.replay_buffer.n_episodes)\n",
    "\n",
    "        for episode_idx in tqdm(self.episode_idxs, desc=\"Preparing data\"):\n",
    "            episode = self.dataset.replay_buffer.get_episode(episode_idx)\n",
    "\n",
    "            obs = {}\n",
    "\n",
    "            if self.include_keys is None or \"img\" in self.include_keys:\n",
    "                img = episode[\"img\"].transpose(0, 3, 1, 2)  # CHW format\n",
    "                if \"img\" in self.process_fns:\n",
    "                    img = self.process_fns[\"img\"](img)\n",
    "                obs[\"img\"] = torch.tensor(img, dtype=torch.float32).to(self.device)\n",
    "\n",
    "            if self.include_keys is None or \"action\" in self.include_keys:\n",
    "                action = episode[\"action\"]\n",
    "                if \"action\" in self.process_fns:\n",
    "                    action = self.process_fns[\"action\"](action)\n",
    "                obs[\"action\"] = torch.tensor(action, dtype=torch.float32).to(\n",
    "                    self.device\n",
    "                )\n",
    "\n",
    "            if self.include_keys is None or \"state\" in self.include_keys:\n",
    "                state = episode[\"state\"]\n",
    "                if \"state\" in self.process_fns:\n",
    "                    state = self.process_fns[\"state\"](state)\n",
    "                obs[\"state\"] = torch.tensor(state, dtype=torch.float32).to(self.device)\n",
    "\n",
    "            # Iterate through the episode to create samples with observation history and prediction horizon\n",
    "            n_obs = len(list(obs.values())[0])\n",
    "            for i in range(n_obs - self.n_obs_history - self.n_pred_horizon + 1):\n",
    "                obs_history = {}\n",
    "                pred_horizon = {}\n",
    "\n",
    "                for key, value in obs.items():\n",
    "                    obs_history[key] = value[i : i + self.n_obs_history]\n",
    "                    pred_horizon[key] = value[\n",
    "                        i\n",
    "                        + self.n_obs_history : i\n",
    "                        + self.n_obs_history\n",
    "                        + self.n_pred_horizon\n",
    "                    ]\n",
    "\n",
    "                self.samples.append((obs_history, pred_horizon))\n",
    "\n",
    "    def __len__(self):\n",
    "        \"\"\"\n",
    "        Return the total number of samples across all episodes.\n",
    "        \"\"\"\n",
    "        return len(self.samples)\n",
    "\n",
    "    def __getitem__(self, idx):\n",
    "        \"\"\"\n",
    "        Return the idx-th sample from the dataset.\n",
    "        \"\"\"\n",
    "        obs_history, pred_horizon = self.samples[idx]\n",
    "\n",
    "        # Convert data to PyTorch tensors and ensure the data type is correct\n",
    "        # for key, value in obs_history.items():\n",
    "        #     obs_history[key] = torch.tensor(value, dtype=torch.float32)\n",
    "        # for key, value in pred_horizon.items():\n",
    "        #     pred_horizon[key] = torch.tensor(value, dtype=torch.float32)\n",
    "\n",
    "        return obs_history, pred_horizon"
   ]
  },
  {
   "cell_type": "markdown",
   "id": "1b52b06b",
   "metadata": {},
   "source": [
    "# Diffusion"
   ]
  },
  {
   "cell_type": "code",
   "execution_count": 63,
   "id": "10049f9f",
   "metadata": {},
   "outputs": [],
   "source": [
    "import math\n",
    "from tqdm.notebook import tqdm\n",
    "import torch\n",
    "import torch.nn as nn\n",
    "import torch.nn.functional as F\n",
    "import torch.optim as optim\n",
    "import torch.utils.data as data\n",
    "\n",
    "\n",
    "def train(model, train_loader, optimizer, scheduler, obs_key: str = \"state\"):\n",
    "    model.train()\n",
    "    train_losses = []\n",
    "    for batch in tqdm(train_loader, total=len(train_loader)):\n",
    "        obs_history, pred_horizon = batch\n",
    "        obs = obs_history[obs_key].cuda()\n",
    "        loss = model.loss(obs)\n",
    "        optimizer.zero_grad()\n",
    "        loss.backward()\n",
    "        optimizer.step()\n",
    "        scheduler.step()\n",
    "        train_losses.append(loss.item())\n",
    "    return train_losses\n",
    "\n",
    "\n",
    "@torch.no_grad()\n",
    "def eval_loss(model, data_loader, obs_key: str = \"state\"):\n",
    "    model.eval()\n",
    "    total_loss, total = 0, 0\n",
    "    for batch in data_loader:\n",
    "        obs_history, pred_horizon = batch\n",
    "        obs = obs_history[obs_key].cuda()\n",
    "        loss = model.loss(obs)\n",
    "        num_data = obs.shape[0]\n",
    "        total_loss += loss.item() * num_data\n",
    "        total += num_data\n",
    "    avg_loss = total_loss / total\n",
    "    return avg_loss\n",
    "\n",
    "\n",
    "def get_lr(step, total_steps, warmup_steps, use_cos_decay):\n",
    "    if step < warmup_steps:\n",
    "        mul = (step + 1) / warmup_steps\n",
    "        return mul\n",
    "    else:\n",
    "        if use_cos_decay:\n",
    "            progress = (step - warmup_steps) / (total_steps - warmup_steps)\n",
    "            return (1 + math.cos(math.pi * progress)) / 2\n",
    "        else:\n",
    "            return 1\n",
    "\n",
    "\n",
    "def train_epochs(model, train_loader, test_loader, train_args, obs_key: str = \"state\"):\n",
    "    epochs, lr = train_args[\"epochs\"], train_args[\"lr\"]\n",
    "    warmup_steps = train_args.get(\"warmup\", 0)\n",
    "    use_cos_decay = train_args.get(\"use_cos_decay\", False)\n",
    "    optimizer = optim.Adam(model.parameters(), lr)\n",
    "    total_steps = epochs * len(train_loader)\n",
    "    scheduler = optim.lr_scheduler.LambdaLR(\n",
    "        optimizer,\n",
    "        lr_lambda=lambda step: get_lr(step, total_steps, warmup_steps, use_cos_decay),\n",
    "    )\n",
    "\n",
    "    train_losses = []\n",
    "    test_losses = [eval_loss(model, test_loader, obs_key=obs_key)]\n",
    "    for epoch in tqdm(list(range(epochs))):\n",
    "        train_loss = train(model, train_loader, optimizer, scheduler, obs_key=obs_key)\n",
    "        train_losses.extend(train_loss)\n",
    "        test_loss = eval_loss(model, test_loader, obs_key=obs_key)\n",
    "        test_losses.append(test_loss)\n",
    "        print(\n",
    "            f\"Epoch {epoch}, Test loss {test_loss:.4f}, Train loss {np.mean(train_loss):.4f}\"\n",
    "        )\n",
    "\n",
    "    return np.array(train_losses), np.array(test_losses)\n",
    "\n",
    "\n",
    "class Diffusion:\n",
    "    def __init__(self, model, data_shape, encode_fn=None, decode_fn=None):\n",
    "        self.model = model\n",
    "        self.data_shape = data_shape\n",
    "        self.encode_fn = encode_fn\n",
    "        self.decode_fn = decode_fn\n",
    "\n",
    "    def _get_alpha_sigma(self, t):\n",
    "        return torch.cos(t * math.pi / 2), torch.sin(t * math.pi / 2)\n",
    "\n",
    "    def _expand(self, t):\n",
    "        for _ in range(len(self.data_shape)):\n",
    "            t = t[..., None]\n",
    "        return t\n",
    "\n",
    "    def _noise(self, x, eps=None, t=None):\n",
    "        if t is None:\n",
    "            t = torch.rand(x.shape[0], dtype=torch.float32, device=x.device)\n",
    "        if eps is None:\n",
    "            eps = torch.randn_like(x)\n",
    "        alpha_t, sigma_t = self._get_alpha_sigma(self._expand(t))\n",
    "        # print(\"t:\", t.shape)\n",
    "        # print(\"expand(t):\", self._expand(t).shape)\n",
    "        # print(\"alpha_t:\", alpha_t.shape)\n",
    "        # print(\"sigma_t:\", sigma_t.shape)\n",
    "        # print(\"x:\", x.shape)\n",
    "        # print(\"eps:\", eps.shape)\n",
    "        x_t = alpha_t * x + sigma_t * eps\n",
    "        return x_t, eps, t\n",
    "\n",
    "    def _x_hat(self, x_t, eps_hat, t):\n",
    "        alpha_t, sigma_t = self._get_alpha_sigma(self._expand(t))\n",
    "        return (x_t - sigma_t * eps_hat) / alpha_t\n",
    "\n",
    "    def loss(self, x, y=None):\n",
    "        if self.encode_fn is not None:\n",
    "            x = self.encode_fn(x)\n",
    "        x_t, eps, t = self._noise(x)\n",
    "        if y is not None:\n",
    "            eps_hat = self.model(x_t, y, t)\n",
    "        else:\n",
    "            eps_hat = self.model(x_t, t)\n",
    "        return torch.mean((eps_hat - eps) ** 2)\n",
    "\n",
    "    @torch.no_grad()\n",
    "    def sample(\n",
    "        self,\n",
    "        n,\n",
    "        num_steps,\n",
    "        clip_denoised=False,\n",
    "        clip_noise=None,\n",
    "        model_fn=None,\n",
    "        cfg_val=None,\n",
    "    ):\n",
    "        model_fn = model_fn or self.model\n",
    "\n",
    "        ts = np.linspace(1 - 1e-4, 1e-4, num_steps + 1, dtype=np.float32)\n",
    "        x = torch.randn(n, *self.data_shape, dtype=torch.float32).cuda()\n",
    "        for i in range(num_steps):\n",
    "            t_cur = torch.full((n,), ts[i], dtype=torch.float32).cuda()\n",
    "            t_next = torch.full((n,), ts[i + 1], dtype=torch.float32).cuda()\n",
    "\n",
    "            alpha_cur, sigma_cur = self._get_alpha_sigma(self._expand(t_cur))\n",
    "            alpha_next, sigma_next = self._get_alpha_sigma(self._expand(t_next))\n",
    "            ddim_sigma = (sigma_next / sigma_cur) * torch.sqrt(\n",
    "                1 - alpha_cur**2 / alpha_next**2\n",
    "            )\n",
    "\n",
    "            if cfg_val is None:\n",
    "                eps_hat = model_fn(x, t_cur)\n",
    "            else:\n",
    "                eps_hat_cond = model_fn(x, t_cur)\n",
    "                eps_hat_uncond = model_fn(x, t_cur, dropout_cond=True)\n",
    "                eps_hat = eps_hat_uncond + cfg_val * (eps_hat_cond - eps_hat_uncond)\n",
    "\n",
    "            x_hat = self._x_hat(x, eps_hat, t_cur)\n",
    "            if clip_denoised:\n",
    "                x_hat = torch.clamp(x_hat, -1, 1)\n",
    "\n",
    "            noise = torch.randn_like(eps_hat)\n",
    "            if clip_noise:\n",
    "                noise = torch.clamp(noise, clip_noise[0], clip_noise[1])\n",
    "\n",
    "            x = (\n",
    "                alpha_next * x_hat\n",
    "                + torch.sqrt((sigma_next**2 - ddim_sigma**2).clamp(min=0)) * eps_hat\n",
    "                + ddim_sigma * noise\n",
    "            )\n",
    "        if self.decode_fn is not None:\n",
    "            x = self.decode_fn(x)\n",
    "        return x\n",
    "\n",
    "    def __getattr__(self, name):\n",
    "        if name in [\"train\", \"eval\", \"parameters\", \"state_dict\", \"load_state_dict\"]:\n",
    "            return getattr(self.model, name)\n",
    "        return self.__getattribute__(name)\n",
    "\n",
    "\n",
    "class MLP(nn.Module):\n",
    "    def __init__(self, input_dim, hidden_dim, n_hidden_layers, timestep_dim=1):\n",
    "        super().__init__()\n",
    "        self.timestep_dim = timestep_dim\n",
    "        prev_dim = input_dim + timestep_dim\n",
    "        net = []\n",
    "        dims = [hidden_dim] * n_hidden_layers + [input_dim]\n",
    "        for i, dim in enumerate(dims):\n",
    "            net.append(nn.Linear(prev_dim, dim))\n",
    "            if i < len(dims) - 1:\n",
    "                net.append(nn.ReLU())\n",
    "            prev_dim = dim\n",
    "        self.net = nn.Sequential(*net)\n",
    "\n",
    "    def forward(self, x, t):\n",
    "        \"\"\"Run a forward pass.\n",
    "\n",
    "        Args:\n",
    "            x (torch.Tensor): Data with shape [batch_size, n_history, input_dim].\n",
    "            t (torch.Tensor): Time embedding with shape [batch_size].\n",
    "        \"\"\"\n",
    "        flat_x = x.flatten(1)  # [batch_size, n_history * input_dim]\n",
    "        xt = torch.cat([flat_x, t[:, None]], dim=1)\n",
    "        out = self.net(xt)\n",
    "        return out.reshape(x.shape)"
   ]
  },
  {
   "cell_type": "markdown",
   "id": "f5b3cd99",
   "metadata": {},
   "source": [
    "## Train"
   ]
  },
  {
   "cell_type": "code",
   "execution_count": 39,
   "id": "a4fae5d4",
   "metadata": {},
   "outputs": [
    {
     "data": {
      "application/vnd.jupyter.widget-view+json": {
       "model_id": "1e72f406c9c548ab84f82604ddd4e6a0",
       "version_major": 2,
       "version_minor": 0
      },
      "text/plain": [
       "Preparing data:   0%|          | 0/185 [00:00<?, ?it/s]"
      ]
     },
     "metadata": {},
     "output_type": "display_data"
    },
    {
     "data": {
      "application/vnd.jupyter.widget-view+json": {
       "model_id": "1ba1445ebb6b4c4396c871c24c44a0a7",
       "version_major": 2,
       "version_minor": 0
      },
      "text/plain": [
       "Preparing data:   0%|          | 0/21 [00:00<?, ?it/s]"
      ]
     },
     "metadata": {},
     "output_type": "display_data"
    }
   ],
   "source": [
    "# Make train and val loaders\n",
    "val_mask = get_val_mask(dataset.replay_buffer.n_episodes, 0.1)\n",
    "val_idxs = np.where(val_mask)[0]\n",
    "train_idxs = np.where(~val_mask)[0]\n",
    "\n",
    "# Make the episode dataset and create a DataLoader.\n",
    "batch_size = 256\n",
    "n_obs_history = 5\n",
    "n_pred_horizon = 0\n",
    "\n",
    "state_normalizer = functools.partial(\n",
    "    normalize_pn1, min_val=min_state, max_val=max_state\n",
    ")\n",
    "process_fns = {\"state\": state_normalizer}\n",
    "include_keys = [\"state\"]\n",
    "\n",
    "train_episode_dataset = EpisodeDataset(\n",
    "    dataset,\n",
    "    n_obs_history=n_obs_history,\n",
    "    n_pred_horizon=n_pred_horizon,\n",
    "    episode_idxs=train_idxs,\n",
    "    include_keys=include_keys,\n",
    "    process_fns=process_fns,\n",
    "    device=\"cuda\",\n",
    ")\n",
    "val_episode_dataset = EpisodeDataset(\n",
    "    dataset,\n",
    "    n_obs_history=n_obs_history,\n",
    "    n_pred_horizon=n_pred_horizon,\n",
    "    episode_idxs=val_idxs,\n",
    "    include_keys=include_keys,\n",
    "    process_fns=process_fns,\n",
    "    device=\"cuda\",\n",
    ")\n",
    "train_loader = torch.utils.data.DataLoader(\n",
    "    train_episode_dataset, batch_size=batch_size, shuffle=True\n",
    ")\n",
    "val_loader = torch.utils.data.DataLoader(\n",
    "    val_episode_dataset, batch_size=batch_size, shuffle=False\n",
    ")"
   ]
  },
  {
   "cell_type": "code",
   "execution_count": 40,
   "id": "c7e438f2",
   "metadata": {},
   "outputs": [],
   "source": [
    "# Normalization sanity check\n",
    "# obs_history, pred_horizon = next(iter(train_loader))\n",
    "\n",
    "# for key, value in obs_history.items():\n",
    "#     print(key, value.shape)\n",
    "#     print(\"min:\", value.min(axis=0), \"max:\", value.max(axis=0))\n",
    "\n",
    "# for key, value in pred_horizon.items():\n",
    "#     print(key, value.shape)"
   ]
  },
  {
   "cell_type": "code",
   "execution_count": 64,
   "id": "e6d891e7",
   "metadata": {},
   "outputs": [
    {
     "data": {
      "application/vnd.jupyter.widget-view+json": {
       "model_id": "09fa3d892c914aba81b24ac563cb6eb8",
       "version_major": 2,
       "version_minor": 0
      },
      "text/plain": [
       "  0%|          | 0/100 [00:00<?, ?it/s]"
      ]
     },
     "metadata": {},
     "output_type": "display_data"
    },
    {
     "data": {
      "application/vnd.jupyter.widget-view+json": {
       "model_id": "241aafe0fe3a48c08b230bbae5f21548",
       "version_major": 2,
       "version_minor": 0
      },
      "text/plain": [
       "  0%|          | 0/88 [00:00<?, ?it/s]"
      ]
     },
     "metadata": {},
     "output_type": "display_data"
    },
    {
     "name": "stdout",
     "output_type": "stream",
     "text": [
      "Epoch 0, Test loss 0.2401, Train loss 0.5832\n"
     ]
    },
    {
     "data": {
      "application/vnd.jupyter.widget-view+json": {
       "model_id": "f933140ca48e420f855e1200404a064f",
       "version_major": 2,
       "version_minor": 0
      },
      "text/plain": [
       "  0%|          | 0/88 [00:00<?, ?it/s]"
      ]
     },
     "metadata": {},
     "output_type": "display_data"
    },
    {
     "name": "stdout",
     "output_type": "stream",
     "text": [
      "Epoch 1, Test loss 0.1903, Train loss 0.2080\n"
     ]
    },
    {
     "data": {
      "application/vnd.jupyter.widget-view+json": {
       "model_id": "b7a28b82220c43bda82a546c0550c8b4",
       "version_major": 2,
       "version_minor": 0
      },
      "text/plain": [
       "  0%|          | 0/88 [00:00<?, ?it/s]"
      ]
     },
     "metadata": {},
     "output_type": "display_data"
    },
    {
     "name": "stdout",
     "output_type": "stream",
     "text": [
      "Epoch 2, Test loss 0.1464, Train loss 0.1617\n"
     ]
    },
    {
     "data": {
      "application/vnd.jupyter.widget-view+json": {
       "model_id": "ef9e669618444dc485d1f28c9597bd9b",
       "version_major": 2,
       "version_minor": 0
      },
      "text/plain": [
       "  0%|          | 0/88 [00:00<?, ?it/s]"
      ]
     },
     "metadata": {},
     "output_type": "display_data"
    },
    {
     "name": "stdout",
     "output_type": "stream",
     "text": [
      "Epoch 3, Test loss 0.1503, Train loss 0.1434\n"
     ]
    },
    {
     "data": {
      "application/vnd.jupyter.widget-view+json": {
       "model_id": "16feee77a63a41a7afdfd75c5295c4aa",
       "version_major": 2,
       "version_minor": 0
      },
      "text/plain": [
       "  0%|          | 0/88 [00:00<?, ?it/s]"
      ]
     },
     "metadata": {},
     "output_type": "display_data"
    },
    {
     "name": "stdout",
     "output_type": "stream",
     "text": [
      "Epoch 4, Test loss 0.1250, Train loss 0.1314\n"
     ]
    },
    {
     "data": {
      "application/vnd.jupyter.widget-view+json": {
       "model_id": "219f46239be54673bc9eab7d7727c857",
       "version_major": 2,
       "version_minor": 0
      },
      "text/plain": [
       "  0%|          | 0/88 [00:00<?, ?it/s]"
      ]
     },
     "metadata": {},
     "output_type": "display_data"
    },
    {
     "name": "stdout",
     "output_type": "stream",
     "text": [
      "Epoch 5, Test loss 0.1326, Train loss 0.1308\n"
     ]
    },
    {
     "data": {
      "application/vnd.jupyter.widget-view+json": {
       "model_id": "8d03cdc3af2b4d25901ac07b859819c9",
       "version_major": 2,
       "version_minor": 0
      },
      "text/plain": [
       "  0%|          | 0/88 [00:00<?, ?it/s]"
      ]
     },
     "metadata": {},
     "output_type": "display_data"
    },
    {
     "name": "stdout",
     "output_type": "stream",
     "text": [
      "Epoch 6, Test loss 0.1212, Train loss 0.1247\n"
     ]
    },
    {
     "data": {
      "application/vnd.jupyter.widget-view+json": {
       "model_id": "b35a1cc101494d38982085dbc3c227ce",
       "version_major": 2,
       "version_minor": 0
      },
      "text/plain": [
       "  0%|          | 0/88 [00:00<?, ?it/s]"
      ]
     },
     "metadata": {},
     "output_type": "display_data"
    },
    {
     "name": "stdout",
     "output_type": "stream",
     "text": [
      "Epoch 7, Test loss 0.1290, Train loss 0.1225\n"
     ]
    },
    {
     "data": {
      "application/vnd.jupyter.widget-view+json": {
       "model_id": "b261e6c386f0469591511c6fa55b0512",
       "version_major": 2,
       "version_minor": 0
      },
      "text/plain": [
       "  0%|          | 0/88 [00:00<?, ?it/s]"
      ]
     },
     "metadata": {},
     "output_type": "display_data"
    },
    {
     "name": "stdout",
     "output_type": "stream",
     "text": [
      "Epoch 8, Test loss 0.1245, Train loss 0.1229\n"
     ]
    },
    {
     "data": {
      "application/vnd.jupyter.widget-view+json": {
       "model_id": "f37dafbf1a23450282102cb6afa6c118",
       "version_major": 2,
       "version_minor": 0
      },
      "text/plain": [
       "  0%|          | 0/88 [00:00<?, ?it/s]"
      ]
     },
     "metadata": {},
     "output_type": "display_data"
    },
    {
     "name": "stdout",
     "output_type": "stream",
     "text": [
      "Epoch 9, Test loss 0.1203, Train loss 0.1189\n"
     ]
    },
    {
     "data": {
      "application/vnd.jupyter.widget-view+json": {
       "model_id": "229cd8013dc44a7fa3aad5fecabf2dc3",
       "version_major": 2,
       "version_minor": 0
      },
      "text/plain": [
       "  0%|          | 0/88 [00:00<?, ?it/s]"
      ]
     },
     "metadata": {},
     "output_type": "display_data"
    },
    {
     "name": "stdout",
     "output_type": "stream",
     "text": [
      "Epoch 10, Test loss 0.1131, Train loss 0.1178\n"
     ]
    },
    {
     "data": {
      "application/vnd.jupyter.widget-view+json": {
       "model_id": "cc319f3abbe54bc9a2b20e3834a26291",
       "version_major": 2,
       "version_minor": 0
      },
      "text/plain": [
       "  0%|          | 0/88 [00:00<?, ?it/s]"
      ]
     },
     "metadata": {},
     "output_type": "display_data"
    },
    {
     "name": "stdout",
     "output_type": "stream",
     "text": [
      "Epoch 11, Test loss 0.1175, Train loss 0.1182\n"
     ]
    },
    {
     "data": {
      "application/vnd.jupyter.widget-view+json": {
       "model_id": "a17aeb9a9f52467c9de52b04d29622a5",
       "version_major": 2,
       "version_minor": 0
      },
      "text/plain": [
       "  0%|          | 0/88 [00:00<?, ?it/s]"
      ]
     },
     "metadata": {},
     "output_type": "display_data"
    },
    {
     "name": "stdout",
     "output_type": "stream",
     "text": [
      "Epoch 12, Test loss 0.1314, Train loss 0.1182\n"
     ]
    },
    {
     "data": {
      "application/vnd.jupyter.widget-view+json": {
       "model_id": "d45553ea68474fbfa3ab0f8f9466a72d",
       "version_major": 2,
       "version_minor": 0
      },
      "text/plain": [
       "  0%|          | 0/88 [00:00<?, ?it/s]"
      ]
     },
     "metadata": {},
     "output_type": "display_data"
    },
    {
     "name": "stdout",
     "output_type": "stream",
     "text": [
      "Epoch 13, Test loss 0.1114, Train loss 0.1186\n"
     ]
    },
    {
     "data": {
      "application/vnd.jupyter.widget-view+json": {
       "model_id": "162dd313da5f4c0aa738073cdaca7e9f",
       "version_major": 2,
       "version_minor": 0
      },
      "text/plain": [
       "  0%|          | 0/88 [00:00<?, ?it/s]"
      ]
     },
     "metadata": {},
     "output_type": "display_data"
    },
    {
     "name": "stdout",
     "output_type": "stream",
     "text": [
      "Epoch 14, Test loss 0.1224, Train loss 0.1150\n"
     ]
    },
    {
     "data": {
      "application/vnd.jupyter.widget-view+json": {
       "model_id": "62b67c40225c4a89b158fab5fa031486",
       "version_major": 2,
       "version_minor": 0
      },
      "text/plain": [
       "  0%|          | 0/88 [00:00<?, ?it/s]"
      ]
     },
     "metadata": {},
     "output_type": "display_data"
    },
    {
     "name": "stdout",
     "output_type": "stream",
     "text": [
      "Epoch 15, Test loss 0.1071, Train loss 0.1130\n"
     ]
    },
    {
     "data": {
      "application/vnd.jupyter.widget-view+json": {
       "model_id": "6fdc1b050c3e40ab9f30e78caaa0cb89",
       "version_major": 2,
       "version_minor": 0
      },
      "text/plain": [
       "  0%|          | 0/88 [00:00<?, ?it/s]"
      ]
     },
     "metadata": {},
     "output_type": "display_data"
    },
    {
     "name": "stdout",
     "output_type": "stream",
     "text": [
      "Epoch 16, Test loss 0.1181, Train loss 0.1114\n"
     ]
    },
    {
     "data": {
      "application/vnd.jupyter.widget-view+json": {
       "model_id": "3c42ae122a54420386cfeb240b21af30",
       "version_major": 2,
       "version_minor": 0
      },
      "text/plain": [
       "  0%|          | 0/88 [00:00<?, ?it/s]"
      ]
     },
     "metadata": {},
     "output_type": "display_data"
    },
    {
     "name": "stdout",
     "output_type": "stream",
     "text": [
      "Epoch 17, Test loss 0.1041, Train loss 0.1130\n"
     ]
    },
    {
     "data": {
      "application/vnd.jupyter.widget-view+json": {
       "model_id": "932f498ef1494d5e9afb9beb50a8adcb",
       "version_major": 2,
       "version_minor": 0
      },
      "text/plain": [
       "  0%|          | 0/88 [00:00<?, ?it/s]"
      ]
     },
     "metadata": {},
     "output_type": "display_data"
    },
    {
     "name": "stdout",
     "output_type": "stream",
     "text": [
      "Epoch 18, Test loss 0.1129, Train loss 0.1103\n"
     ]
    },
    {
     "data": {
      "application/vnd.jupyter.widget-view+json": {
       "model_id": "56bb69e22c844fa289a2f74f34565b41",
       "version_major": 2,
       "version_minor": 0
      },
      "text/plain": [
       "  0%|          | 0/88 [00:00<?, ?it/s]"
      ]
     },
     "metadata": {},
     "output_type": "display_data"
    },
    {
     "name": "stdout",
     "output_type": "stream",
     "text": [
      "Epoch 19, Test loss 0.1102, Train loss 0.1122\n"
     ]
    },
    {
     "data": {
      "application/vnd.jupyter.widget-view+json": {
       "model_id": "19b7726ce2804a859941196459a5d0a9",
       "version_major": 2,
       "version_minor": 0
      },
      "text/plain": [
       "  0%|          | 0/88 [00:00<?, ?it/s]"
      ]
     },
     "metadata": {},
     "output_type": "display_data"
    },
    {
     "name": "stdout",
     "output_type": "stream",
     "text": [
      "Epoch 20, Test loss 0.1091, Train loss 0.1086\n"
     ]
    },
    {
     "data": {
      "application/vnd.jupyter.widget-view+json": {
       "model_id": "1b340b27167a49c48e55368e2160416a",
       "version_major": 2,
       "version_minor": 0
      },
      "text/plain": [
       "  0%|          | 0/88 [00:00<?, ?it/s]"
      ]
     },
     "metadata": {},
     "output_type": "display_data"
    },
    {
     "name": "stdout",
     "output_type": "stream",
     "text": [
      "Epoch 21, Test loss 0.1208, Train loss 0.1092\n"
     ]
    },
    {
     "data": {
      "application/vnd.jupyter.widget-view+json": {
       "model_id": "a08ce47b9575422cbee1d05037e21f34",
       "version_major": 2,
       "version_minor": 0
      },
      "text/plain": [
       "  0%|          | 0/88 [00:00<?, ?it/s]"
      ]
     },
     "metadata": {},
     "output_type": "display_data"
    },
    {
     "name": "stdout",
     "output_type": "stream",
     "text": [
      "Epoch 22, Test loss 0.1059, Train loss 0.1084\n"
     ]
    },
    {
     "data": {
      "application/vnd.jupyter.widget-view+json": {
       "model_id": "4091966a5c064a568bb29376d30e8135",
       "version_major": 2,
       "version_minor": 0
      },
      "text/plain": [
       "  0%|          | 0/88 [00:00<?, ?it/s]"
      ]
     },
     "metadata": {},
     "output_type": "display_data"
    },
    {
     "name": "stdout",
     "output_type": "stream",
     "text": [
      "Epoch 23, Test loss 0.1115, Train loss 0.1073\n"
     ]
    },
    {
     "data": {
      "application/vnd.jupyter.widget-view+json": {
       "model_id": "b98dc4856d3c4b9aa266104ddb513856",
       "version_major": 2,
       "version_minor": 0
      },
      "text/plain": [
       "  0%|          | 0/88 [00:00<?, ?it/s]"
      ]
     },
     "metadata": {},
     "output_type": "display_data"
    },
    {
     "name": "stdout",
     "output_type": "stream",
     "text": [
      "Epoch 24, Test loss 0.1057, Train loss 0.1086\n"
     ]
    },
    {
     "data": {
      "application/vnd.jupyter.widget-view+json": {
       "model_id": "03887c9b038e4fdb84ca226f920b3925",
       "version_major": 2,
       "version_minor": 0
      },
      "text/plain": [
       "  0%|          | 0/88 [00:00<?, ?it/s]"
      ]
     },
     "metadata": {},
     "output_type": "display_data"
    },
    {
     "name": "stdout",
     "output_type": "stream",
     "text": [
      "Epoch 25, Test loss 0.1016, Train loss 0.1069\n"
     ]
    },
    {
     "data": {
      "application/vnd.jupyter.widget-view+json": {
       "model_id": "b6cb352718cb4964baecefba706047e6",
       "version_major": 2,
       "version_minor": 0
      },
      "text/plain": [
       "  0%|          | 0/88 [00:00<?, ?it/s]"
      ]
     },
     "metadata": {},
     "output_type": "display_data"
    },
    {
     "name": "stdout",
     "output_type": "stream",
     "text": [
      "Epoch 26, Test loss 0.1043, Train loss 0.1083\n"
     ]
    },
    {
     "data": {
      "application/vnd.jupyter.widget-view+json": {
       "model_id": "78319003eadb4aaf9072bf6b84ec1676",
       "version_major": 2,
       "version_minor": 0
      },
      "text/plain": [
       "  0%|          | 0/88 [00:00<?, ?it/s]"
      ]
     },
     "metadata": {},
     "output_type": "display_data"
    },
    {
     "name": "stdout",
     "output_type": "stream",
     "text": [
      "Epoch 27, Test loss 0.1138, Train loss 0.1062\n"
     ]
    },
    {
     "data": {
      "application/vnd.jupyter.widget-view+json": {
       "model_id": "da7115ca1ad84c15ad3a3839ae4aeba7",
       "version_major": 2,
       "version_minor": 0
      },
      "text/plain": [
       "  0%|          | 0/88 [00:00<?, ?it/s]"
      ]
     },
     "metadata": {},
     "output_type": "display_data"
    },
    {
     "name": "stdout",
     "output_type": "stream",
     "text": [
      "Epoch 28, Test loss 0.0987, Train loss 0.1087\n"
     ]
    },
    {
     "data": {
      "application/vnd.jupyter.widget-view+json": {
       "model_id": "cf5ce14805e24387b5ee22bf0f972c7f",
       "version_major": 2,
       "version_minor": 0
      },
      "text/plain": [
       "  0%|          | 0/88 [00:00<?, ?it/s]"
      ]
     },
     "metadata": {},
     "output_type": "display_data"
    },
    {
     "name": "stdout",
     "output_type": "stream",
     "text": [
      "Epoch 29, Test loss 0.1079, Train loss 0.1048\n"
     ]
    },
    {
     "data": {
      "application/vnd.jupyter.widget-view+json": {
       "model_id": "df274eca8489470d986acd73010b83b2",
       "version_major": 2,
       "version_minor": 0
      },
      "text/plain": [
       "  0%|          | 0/88 [00:00<?, ?it/s]"
      ]
     },
     "metadata": {},
     "output_type": "display_data"
    },
    {
     "name": "stdout",
     "output_type": "stream",
     "text": [
      "Epoch 30, Test loss 0.1123, Train loss 0.1054\n"
     ]
    },
    {
     "data": {
      "application/vnd.jupyter.widget-view+json": {
       "model_id": "becb90d7d45146738b1e4c5a602c689a",
       "version_major": 2,
       "version_minor": 0
      },
      "text/plain": [
       "  0%|          | 0/88 [00:00<?, ?it/s]"
      ]
     },
     "metadata": {},
     "output_type": "display_data"
    },
    {
     "name": "stdout",
     "output_type": "stream",
     "text": [
      "Epoch 31, Test loss 0.1041, Train loss 0.1055\n"
     ]
    },
    {
     "data": {
      "application/vnd.jupyter.widget-view+json": {
       "model_id": "4f14b1890d88472db92fee7653566e7f",
       "version_major": 2,
       "version_minor": 0
      },
      "text/plain": [
       "  0%|          | 0/88 [00:00<?, ?it/s]"
      ]
     },
     "metadata": {},
     "output_type": "display_data"
    },
    {
     "name": "stdout",
     "output_type": "stream",
     "text": [
      "Epoch 32, Test loss 0.1095, Train loss 0.1046\n"
     ]
    },
    {
     "data": {
      "application/vnd.jupyter.widget-view+json": {
       "model_id": "04ac2832d0f3424f976e2a3032954f59",
       "version_major": 2,
       "version_minor": 0
      },
      "text/plain": [
       "  0%|          | 0/88 [00:00<?, ?it/s]"
      ]
     },
     "metadata": {},
     "output_type": "display_data"
    },
    {
     "name": "stdout",
     "output_type": "stream",
     "text": [
      "Epoch 33, Test loss 0.1102, Train loss 0.1057\n"
     ]
    },
    {
     "data": {
      "application/vnd.jupyter.widget-view+json": {
       "model_id": "ca7f31aa0b0947d5ad3920b1f6f2a3d5",
       "version_major": 2,
       "version_minor": 0
      },
      "text/plain": [
       "  0%|          | 0/88 [00:00<?, ?it/s]"
      ]
     },
     "metadata": {},
     "output_type": "display_data"
    },
    {
     "name": "stdout",
     "output_type": "stream",
     "text": [
      "Epoch 34, Test loss 0.1117, Train loss 0.1057\n"
     ]
    },
    {
     "data": {
      "application/vnd.jupyter.widget-view+json": {
       "model_id": "bf0d3dd62e2043f4b6dcd3b1d96d3caa",
       "version_major": 2,
       "version_minor": 0
      },
      "text/plain": [
       "  0%|          | 0/88 [00:00<?, ?it/s]"
      ]
     },
     "metadata": {},
     "output_type": "display_data"
    },
    {
     "name": "stdout",
     "output_type": "stream",
     "text": [
      "Epoch 35, Test loss 0.1051, Train loss 0.1059\n"
     ]
    },
    {
     "data": {
      "application/vnd.jupyter.widget-view+json": {
       "model_id": "138f4c129464434aaa174a6890ab6093",
       "version_major": 2,
       "version_minor": 0
      },
      "text/plain": [
       "  0%|          | 0/88 [00:00<?, ?it/s]"
      ]
     },
     "metadata": {},
     "output_type": "display_data"
    },
    {
     "name": "stdout",
     "output_type": "stream",
     "text": [
      "Epoch 36, Test loss 0.1052, Train loss 0.1040\n"
     ]
    },
    {
     "data": {
      "application/vnd.jupyter.widget-view+json": {
       "model_id": "19230cfcd2a942039bebadda28755433",
       "version_major": 2,
       "version_minor": 0
      },
      "text/plain": [
       "  0%|          | 0/88 [00:00<?, ?it/s]"
      ]
     },
     "metadata": {},
     "output_type": "display_data"
    },
    {
     "name": "stdout",
     "output_type": "stream",
     "text": [
      "Epoch 37, Test loss 0.1095, Train loss 0.1044\n"
     ]
    },
    {
     "data": {
      "application/vnd.jupyter.widget-view+json": {
       "model_id": "a27d0570a5804d1abc21c24126380246",
       "version_major": 2,
       "version_minor": 0
      },
      "text/plain": [
       "  0%|          | 0/88 [00:00<?, ?it/s]"
      ]
     },
     "metadata": {},
     "output_type": "display_data"
    },
    {
     "name": "stdout",
     "output_type": "stream",
     "text": [
      "Epoch 38, Test loss 0.0979, Train loss 0.1023\n"
     ]
    },
    {
     "data": {
      "application/vnd.jupyter.widget-view+json": {
       "model_id": "00ec6863b07d413ba4b9d5fb51192bfd",
       "version_major": 2,
       "version_minor": 0
      },
      "text/plain": [
       "  0%|          | 0/88 [00:00<?, ?it/s]"
      ]
     },
     "metadata": {},
     "output_type": "display_data"
    },
    {
     "name": "stdout",
     "output_type": "stream",
     "text": [
      "Epoch 39, Test loss 0.1030, Train loss 0.1026\n"
     ]
    },
    {
     "data": {
      "application/vnd.jupyter.widget-view+json": {
       "model_id": "858d42e7cacc4ac0a5fb7a489da39d9b",
       "version_major": 2,
       "version_minor": 0
      },
      "text/plain": [
       "  0%|          | 0/88 [00:00<?, ?it/s]"
      ]
     },
     "metadata": {},
     "output_type": "display_data"
    },
    {
     "name": "stdout",
     "output_type": "stream",
     "text": [
      "Epoch 40, Test loss 0.1023, Train loss 0.1001\n"
     ]
    },
    {
     "data": {
      "application/vnd.jupyter.widget-view+json": {
       "model_id": "e6e45171ab334d82b5920f42e869ce37",
       "version_major": 2,
       "version_minor": 0
      },
      "text/plain": [
       "  0%|          | 0/88 [00:00<?, ?it/s]"
      ]
     },
     "metadata": {},
     "output_type": "display_data"
    },
    {
     "name": "stdout",
     "output_type": "stream",
     "text": [
      "Epoch 41, Test loss 0.1027, Train loss 0.1031\n"
     ]
    },
    {
     "data": {
      "application/vnd.jupyter.widget-view+json": {
       "model_id": "ec5513ac29ec4d5eb31da209cd4255aa",
       "version_major": 2,
       "version_minor": 0
      },
      "text/plain": [
       "  0%|          | 0/88 [00:00<?, ?it/s]"
      ]
     },
     "metadata": {},
     "output_type": "display_data"
    },
    {
     "name": "stdout",
     "output_type": "stream",
     "text": [
      "Epoch 42, Test loss 0.0974, Train loss 0.1024\n"
     ]
    },
    {
     "data": {
      "application/vnd.jupyter.widget-view+json": {
       "model_id": "074cfb6a43454aa48eae29bb8e85382a",
       "version_major": 2,
       "version_minor": 0
      },
      "text/plain": [
       "  0%|          | 0/88 [00:00<?, ?it/s]"
      ]
     },
     "metadata": {},
     "output_type": "display_data"
    },
    {
     "name": "stdout",
     "output_type": "stream",
     "text": [
      "Epoch 43, Test loss 0.1035, Train loss 0.1027\n"
     ]
    },
    {
     "data": {
      "application/vnd.jupyter.widget-view+json": {
       "model_id": "0f2515232755446b87aeca8c43d47018",
       "version_major": 2,
       "version_minor": 0
      },
      "text/plain": [
       "  0%|          | 0/88 [00:00<?, ?it/s]"
      ]
     },
     "metadata": {},
     "output_type": "display_data"
    },
    {
     "name": "stdout",
     "output_type": "stream",
     "text": [
      "Epoch 44, Test loss 0.1023, Train loss 0.1013\n"
     ]
    },
    {
     "data": {
      "application/vnd.jupyter.widget-view+json": {
       "model_id": "9047090ea4054bdcad2a2e4167ff3dfc",
       "version_major": 2,
       "version_minor": 0
      },
      "text/plain": [
       "  0%|          | 0/88 [00:00<?, ?it/s]"
      ]
     },
     "metadata": {},
     "output_type": "display_data"
    },
    {
     "name": "stdout",
     "output_type": "stream",
     "text": [
      "Epoch 45, Test loss 0.1014, Train loss 0.1008\n"
     ]
    },
    {
     "data": {
      "application/vnd.jupyter.widget-view+json": {
       "model_id": "b9c5165f55394fd2b55647c3cb276894",
       "version_major": 2,
       "version_minor": 0
      },
      "text/plain": [
       "  0%|          | 0/88 [00:00<?, ?it/s]"
      ]
     },
     "metadata": {},
     "output_type": "display_data"
    },
    {
     "name": "stdout",
     "output_type": "stream",
     "text": [
      "Epoch 46, Test loss 0.1005, Train loss 0.1001\n"
     ]
    },
    {
     "data": {
      "application/vnd.jupyter.widget-view+json": {
       "model_id": "be8b9c81e79943fa97ea2327171f97e2",
       "version_major": 2,
       "version_minor": 0
      },
      "text/plain": [
       "  0%|          | 0/88 [00:00<?, ?it/s]"
      ]
     },
     "metadata": {},
     "output_type": "display_data"
    },
    {
     "name": "stdout",
     "output_type": "stream",
     "text": [
      "Epoch 47, Test loss 0.0961, Train loss 0.1012\n"
     ]
    },
    {
     "data": {
      "application/vnd.jupyter.widget-view+json": {
       "model_id": "85f76c0c0bec4ceabc07619c4ad9259a",
       "version_major": 2,
       "version_minor": 0
      },
      "text/plain": [
       "  0%|          | 0/88 [00:00<?, ?it/s]"
      ]
     },
     "metadata": {},
     "output_type": "display_data"
    },
    {
     "name": "stdout",
     "output_type": "stream",
     "text": [
      "Epoch 48, Test loss 0.1048, Train loss 0.1018\n"
     ]
    },
    {
     "data": {
      "application/vnd.jupyter.widget-view+json": {
       "model_id": "aeecbe65969846ab971938d343c55876",
       "version_major": 2,
       "version_minor": 0
      },
      "text/plain": [
       "  0%|          | 0/88 [00:00<?, ?it/s]"
      ]
     },
     "metadata": {},
     "output_type": "display_data"
    },
    {
     "name": "stdout",
     "output_type": "stream",
     "text": [
      "Epoch 49, Test loss 0.1006, Train loss 0.1003\n"
     ]
    },
    {
     "data": {
      "application/vnd.jupyter.widget-view+json": {
       "model_id": "19cf0d397f1e42f984ef3df00ae7a45b",
       "version_major": 2,
       "version_minor": 0
      },
      "text/plain": [
       "  0%|          | 0/88 [00:00<?, ?it/s]"
      ]
     },
     "metadata": {},
     "output_type": "display_data"
    },
    {
     "name": "stdout",
     "output_type": "stream",
     "text": [
      "Epoch 50, Test loss 0.0994, Train loss 0.1005\n"
     ]
    },
    {
     "data": {
      "application/vnd.jupyter.widget-view+json": {
       "model_id": "06361fa5c03a43d5a01e3749c6eb0992",
       "version_major": 2,
       "version_minor": 0
      },
      "text/plain": [
       "  0%|          | 0/88 [00:00<?, ?it/s]"
      ]
     },
     "metadata": {},
     "output_type": "display_data"
    },
    {
     "name": "stdout",
     "output_type": "stream",
     "text": [
      "Epoch 51, Test loss 0.0970, Train loss 0.0992\n"
     ]
    },
    {
     "data": {
      "application/vnd.jupyter.widget-view+json": {
       "model_id": "fde04af17a894bfd8dc50210578411dc",
       "version_major": 2,
       "version_minor": 0
      },
      "text/plain": [
       "  0%|          | 0/88 [00:00<?, ?it/s]"
      ]
     },
     "metadata": {},
     "output_type": "display_data"
    },
    {
     "name": "stdout",
     "output_type": "stream",
     "text": [
      "Epoch 52, Test loss 0.0967, Train loss 0.1001\n"
     ]
    },
    {
     "data": {
      "application/vnd.jupyter.widget-view+json": {
       "model_id": "9c500d64e3a34b739522821aa670f85a",
       "version_major": 2,
       "version_minor": 0
      },
      "text/plain": [
       "  0%|          | 0/88 [00:00<?, ?it/s]"
      ]
     },
     "metadata": {},
     "output_type": "display_data"
    },
    {
     "name": "stdout",
     "output_type": "stream",
     "text": [
      "Epoch 53, Test loss 0.0995, Train loss 0.0997\n"
     ]
    },
    {
     "data": {
      "application/vnd.jupyter.widget-view+json": {
       "model_id": "1de57c1a9e0d4e73b744054a53b4530f",
       "version_major": 2,
       "version_minor": 0
      },
      "text/plain": [
       "  0%|          | 0/88 [00:00<?, ?it/s]"
      ]
     },
     "metadata": {},
     "output_type": "display_data"
    },
    {
     "name": "stdout",
     "output_type": "stream",
     "text": [
      "Epoch 54, Test loss 0.1017, Train loss 0.0983\n"
     ]
    },
    {
     "data": {
      "application/vnd.jupyter.widget-view+json": {
       "model_id": "22273ab39dbd4130ac2177fba1f6b44a",
       "version_major": 2,
       "version_minor": 0
      },
      "text/plain": [
       "  0%|          | 0/88 [00:00<?, ?it/s]"
      ]
     },
     "metadata": {},
     "output_type": "display_data"
    },
    {
     "name": "stdout",
     "output_type": "stream",
     "text": [
      "Epoch 55, Test loss 0.0970, Train loss 0.0975\n"
     ]
    },
    {
     "data": {
      "application/vnd.jupyter.widget-view+json": {
       "model_id": "2b4b0d3ee6684aeba1410744c6f763ed",
       "version_major": 2,
       "version_minor": 0
      },
      "text/plain": [
       "  0%|          | 0/88 [00:00<?, ?it/s]"
      ]
     },
     "metadata": {},
     "output_type": "display_data"
    },
    {
     "name": "stdout",
     "output_type": "stream",
     "text": [
      "Epoch 56, Test loss 0.0996, Train loss 0.0994\n"
     ]
    },
    {
     "data": {
      "application/vnd.jupyter.widget-view+json": {
       "model_id": "657b335381a548c3b886db50a41d5973",
       "version_major": 2,
       "version_minor": 0
      },
      "text/plain": [
       "  0%|          | 0/88 [00:00<?, ?it/s]"
      ]
     },
     "metadata": {},
     "output_type": "display_data"
    },
    {
     "name": "stdout",
     "output_type": "stream",
     "text": [
      "Epoch 57, Test loss 0.0982, Train loss 0.0979\n"
     ]
    },
    {
     "data": {
      "application/vnd.jupyter.widget-view+json": {
       "model_id": "a2b7d4bfb4654e2696c41fe6a57ec3c6",
       "version_major": 2,
       "version_minor": 0
      },
      "text/plain": [
       "  0%|          | 0/88 [00:00<?, ?it/s]"
      ]
     },
     "metadata": {},
     "output_type": "display_data"
    },
    {
     "name": "stdout",
     "output_type": "stream",
     "text": [
      "Epoch 58, Test loss 0.0933, Train loss 0.0981\n"
     ]
    },
    {
     "data": {
      "application/vnd.jupyter.widget-view+json": {
       "model_id": "3b11bd4d8d0f468aa051be2a3f0548cf",
       "version_major": 2,
       "version_minor": 0
      },
      "text/plain": [
       "  0%|          | 0/88 [00:00<?, ?it/s]"
      ]
     },
     "metadata": {},
     "output_type": "display_data"
    },
    {
     "name": "stdout",
     "output_type": "stream",
     "text": [
      "Epoch 59, Test loss 0.1012, Train loss 0.0982\n"
     ]
    },
    {
     "data": {
      "application/vnd.jupyter.widget-view+json": {
       "model_id": "fad5f3f1edef467c9fb463530244ada9",
       "version_major": 2,
       "version_minor": 0
      },
      "text/plain": [
       "  0%|          | 0/88 [00:00<?, ?it/s]"
      ]
     },
     "metadata": {},
     "output_type": "display_data"
    },
    {
     "name": "stdout",
     "output_type": "stream",
     "text": [
      "Epoch 60, Test loss 0.1012, Train loss 0.0984\n"
     ]
    },
    {
     "data": {
      "application/vnd.jupyter.widget-view+json": {
       "model_id": "7b4e4dab8021464abd4e38af94f98754",
       "version_major": 2,
       "version_minor": 0
      },
      "text/plain": [
       "  0%|          | 0/88 [00:00<?, ?it/s]"
      ]
     },
     "metadata": {},
     "output_type": "display_data"
    },
    {
     "name": "stdout",
     "output_type": "stream",
     "text": [
      "Epoch 61, Test loss 0.0977, Train loss 0.0968\n"
     ]
    },
    {
     "data": {
      "application/vnd.jupyter.widget-view+json": {
       "model_id": "5c79a2d10b4b4b7599adfdfc5c182727",
       "version_major": 2,
       "version_minor": 0
      },
      "text/plain": [
       "  0%|          | 0/88 [00:00<?, ?it/s]"
      ]
     },
     "metadata": {},
     "output_type": "display_data"
    },
    {
     "name": "stdout",
     "output_type": "stream",
     "text": [
      "Epoch 62, Test loss 0.1012, Train loss 0.0967\n"
     ]
    },
    {
     "data": {
      "application/vnd.jupyter.widget-view+json": {
       "model_id": "c635e15c96834c8eb9ce7ece653f428f",
       "version_major": 2,
       "version_minor": 0
      },
      "text/plain": [
       "  0%|          | 0/88 [00:00<?, ?it/s]"
      ]
     },
     "metadata": {},
     "output_type": "display_data"
    },
    {
     "name": "stdout",
     "output_type": "stream",
     "text": [
      "Epoch 63, Test loss 0.0975, Train loss 0.0958\n"
     ]
    },
    {
     "data": {
      "application/vnd.jupyter.widget-view+json": {
       "model_id": "6a194fec345746c3997a4e87914de69f",
       "version_major": 2,
       "version_minor": 0
      },
      "text/plain": [
       "  0%|          | 0/88 [00:00<?, ?it/s]"
      ]
     },
     "metadata": {},
     "output_type": "display_data"
    },
    {
     "name": "stdout",
     "output_type": "stream",
     "text": [
      "Epoch 64, Test loss 0.0949, Train loss 0.0966\n"
     ]
    },
    {
     "data": {
      "application/vnd.jupyter.widget-view+json": {
       "model_id": "5516e1be7cf0402688a88a90235e039f",
       "version_major": 2,
       "version_minor": 0
      },
      "text/plain": [
       "  0%|          | 0/88 [00:00<?, ?it/s]"
      ]
     },
     "metadata": {},
     "output_type": "display_data"
    },
    {
     "name": "stdout",
     "output_type": "stream",
     "text": [
      "Epoch 65, Test loss 0.0932, Train loss 0.0967\n"
     ]
    },
    {
     "data": {
      "application/vnd.jupyter.widget-view+json": {
       "model_id": "be47076898e34b29a6fb0f8e6f0b417c",
       "version_major": 2,
       "version_minor": 0
      },
      "text/plain": [
       "  0%|          | 0/88 [00:00<?, ?it/s]"
      ]
     },
     "metadata": {},
     "output_type": "display_data"
    },
    {
     "name": "stdout",
     "output_type": "stream",
     "text": [
      "Epoch 66, Test loss 0.1010, Train loss 0.0983\n"
     ]
    },
    {
     "data": {
      "application/vnd.jupyter.widget-view+json": {
       "model_id": "7027d9c7944140b7b599f203679c6e4f",
       "version_major": 2,
       "version_minor": 0
      },
      "text/plain": [
       "  0%|          | 0/88 [00:00<?, ?it/s]"
      ]
     },
     "metadata": {},
     "output_type": "display_data"
    },
    {
     "name": "stdout",
     "output_type": "stream",
     "text": [
      "Epoch 67, Test loss 0.0979, Train loss 0.0954\n"
     ]
    },
    {
     "data": {
      "application/vnd.jupyter.widget-view+json": {
       "model_id": "0cd9fbda7dfb4ada9db7ee2ef71d2e81",
       "version_major": 2,
       "version_minor": 0
      },
      "text/plain": [
       "  0%|          | 0/88 [00:00<?, ?it/s]"
      ]
     },
     "metadata": {},
     "output_type": "display_data"
    },
    {
     "name": "stdout",
     "output_type": "stream",
     "text": [
      "Epoch 68, Test loss 0.0922, Train loss 0.0947\n"
     ]
    },
    {
     "data": {
      "application/vnd.jupyter.widget-view+json": {
       "model_id": "57d0f64578154312b3abf4bcdfc8d78f",
       "version_major": 2,
       "version_minor": 0
      },
      "text/plain": [
       "  0%|          | 0/88 [00:00<?, ?it/s]"
      ]
     },
     "metadata": {},
     "output_type": "display_data"
    },
    {
     "name": "stdout",
     "output_type": "stream",
     "text": [
      "Epoch 69, Test loss 0.0921, Train loss 0.0950\n"
     ]
    },
    {
     "data": {
      "application/vnd.jupyter.widget-view+json": {
       "model_id": "d390d43a7172474aaff88744ba26ee06",
       "version_major": 2,
       "version_minor": 0
      },
      "text/plain": [
       "  0%|          | 0/88 [00:00<?, ?it/s]"
      ]
     },
     "metadata": {},
     "output_type": "display_data"
    },
    {
     "name": "stdout",
     "output_type": "stream",
     "text": [
      "Epoch 70, Test loss 0.0939, Train loss 0.0951\n"
     ]
    },
    {
     "data": {
      "application/vnd.jupyter.widget-view+json": {
       "model_id": "2f1ca098f74b47ce9e483f18ed8c9544",
       "version_major": 2,
       "version_minor": 0
      },
      "text/plain": [
       "  0%|          | 0/88 [00:00<?, ?it/s]"
      ]
     },
     "metadata": {},
     "output_type": "display_data"
    },
    {
     "name": "stdout",
     "output_type": "stream",
     "text": [
      "Epoch 71, Test loss 0.0910, Train loss 0.0951\n"
     ]
    },
    {
     "data": {
      "application/vnd.jupyter.widget-view+json": {
       "model_id": "03a0647ed06e46229c4c7f1008338cc6",
       "version_major": 2,
       "version_minor": 0
      },
      "text/plain": [
       "  0%|          | 0/88 [00:00<?, ?it/s]"
      ]
     },
     "metadata": {},
     "output_type": "display_data"
    },
    {
     "name": "stdout",
     "output_type": "stream",
     "text": [
      "Epoch 72, Test loss 0.0944, Train loss 0.0957\n"
     ]
    },
    {
     "data": {
      "application/vnd.jupyter.widget-view+json": {
       "model_id": "02887e77f6cf431fae44eb72edaae1c2",
       "version_major": 2,
       "version_minor": 0
      },
      "text/plain": [
       "  0%|          | 0/88 [00:00<?, ?it/s]"
      ]
     },
     "metadata": {},
     "output_type": "display_data"
    },
    {
     "name": "stdout",
     "output_type": "stream",
     "text": [
      "Epoch 73, Test loss 0.0975, Train loss 0.0942\n"
     ]
    },
    {
     "data": {
      "application/vnd.jupyter.widget-view+json": {
       "model_id": "651f76eb65f94483ae387a5a187a80f5",
       "version_major": 2,
       "version_minor": 0
      },
      "text/plain": [
       "  0%|          | 0/88 [00:00<?, ?it/s]"
      ]
     },
     "metadata": {},
     "output_type": "display_data"
    },
    {
     "name": "stdout",
     "output_type": "stream",
     "text": [
      "Epoch 74, Test loss 0.0904, Train loss 0.0935\n"
     ]
    },
    {
     "data": {
      "application/vnd.jupyter.widget-view+json": {
       "model_id": "9c3bcae5c5ea4bfdb5891d88dd49b85d",
       "version_major": 2,
       "version_minor": 0
      },
      "text/plain": [
       "  0%|          | 0/88 [00:00<?, ?it/s]"
      ]
     },
     "metadata": {},
     "output_type": "display_data"
    },
    {
     "name": "stdout",
     "output_type": "stream",
     "text": [
      "Epoch 75, Test loss 0.0936, Train loss 0.0939\n"
     ]
    },
    {
     "data": {
      "application/vnd.jupyter.widget-view+json": {
       "model_id": "117861977f0e4ff4ae4e18e2063b2792",
       "version_major": 2,
       "version_minor": 0
      },
      "text/plain": [
       "  0%|          | 0/88 [00:00<?, ?it/s]"
      ]
     },
     "metadata": {},
     "output_type": "display_data"
    },
    {
     "name": "stdout",
     "output_type": "stream",
     "text": [
      "Epoch 76, Test loss 0.0920, Train loss 0.0944\n"
     ]
    },
    {
     "data": {
      "application/vnd.jupyter.widget-view+json": {
       "model_id": "fabe4affd1f84f81b4abd549afa6af23",
       "version_major": 2,
       "version_minor": 0
      },
      "text/plain": [
       "  0%|          | 0/88 [00:00<?, ?it/s]"
      ]
     },
     "metadata": {},
     "output_type": "display_data"
    },
    {
     "name": "stdout",
     "output_type": "stream",
     "text": [
      "Epoch 77, Test loss 0.0938, Train loss 0.0929\n"
     ]
    },
    {
     "data": {
      "application/vnd.jupyter.widget-view+json": {
       "model_id": "efefd25576f94869b7e37a7813a2a700",
       "version_major": 2,
       "version_minor": 0
      },
      "text/plain": [
       "  0%|          | 0/88 [00:00<?, ?it/s]"
      ]
     },
     "metadata": {},
     "output_type": "display_data"
    },
    {
     "name": "stdout",
     "output_type": "stream",
     "text": [
      "Epoch 78, Test loss 0.0908, Train loss 0.0931\n"
     ]
    },
    {
     "data": {
      "application/vnd.jupyter.widget-view+json": {
       "model_id": "c5577d005be74693a33a602abd1dc60e",
       "version_major": 2,
       "version_minor": 0
      },
      "text/plain": [
       "  0%|          | 0/88 [00:00<?, ?it/s]"
      ]
     },
     "metadata": {},
     "output_type": "display_data"
    },
    {
     "name": "stdout",
     "output_type": "stream",
     "text": [
      "Epoch 79, Test loss 0.0931, Train loss 0.0942\n"
     ]
    },
    {
     "data": {
      "application/vnd.jupyter.widget-view+json": {
       "model_id": "7ebf672dcc3e41e3acc19f8106388ab2",
       "version_major": 2,
       "version_minor": 0
      },
      "text/plain": [
       "  0%|          | 0/88 [00:00<?, ?it/s]"
      ]
     },
     "metadata": {},
     "output_type": "display_data"
    },
    {
     "name": "stdout",
     "output_type": "stream",
     "text": [
      "Epoch 80, Test loss 0.0913, Train loss 0.0943\n"
     ]
    },
    {
     "data": {
      "application/vnd.jupyter.widget-view+json": {
       "model_id": "c3ebf45e417e4caf8c7f24df8ec92586",
       "version_major": 2,
       "version_minor": 0
      },
      "text/plain": [
       "  0%|          | 0/88 [00:00<?, ?it/s]"
      ]
     },
     "metadata": {},
     "output_type": "display_data"
    },
    {
     "name": "stdout",
     "output_type": "stream",
     "text": [
      "Epoch 81, Test loss 0.0961, Train loss 0.0938\n"
     ]
    },
    {
     "data": {
      "application/vnd.jupyter.widget-view+json": {
       "model_id": "e84375132c9840ba863f68d209aa7296",
       "version_major": 2,
       "version_minor": 0
      },
      "text/plain": [
       "  0%|          | 0/88 [00:00<?, ?it/s]"
      ]
     },
     "metadata": {},
     "output_type": "display_data"
    },
    {
     "name": "stdout",
     "output_type": "stream",
     "text": [
      "Epoch 82, Test loss 0.0855, Train loss 0.0940\n"
     ]
    },
    {
     "data": {
      "application/vnd.jupyter.widget-view+json": {
       "model_id": "2024ba38f3dd465aa1ef9b9acbb3b93f",
       "version_major": 2,
       "version_minor": 0
      },
      "text/plain": [
       "  0%|          | 0/88 [00:00<?, ?it/s]"
      ]
     },
     "metadata": {},
     "output_type": "display_data"
    },
    {
     "name": "stdout",
     "output_type": "stream",
     "text": [
      "Epoch 83, Test loss 0.0925, Train loss 0.0940\n"
     ]
    },
    {
     "data": {
      "application/vnd.jupyter.widget-view+json": {
       "model_id": "d58650777aa64494835b30909f5dac69",
       "version_major": 2,
       "version_minor": 0
      },
      "text/plain": [
       "  0%|          | 0/88 [00:00<?, ?it/s]"
      ]
     },
     "metadata": {},
     "output_type": "display_data"
    },
    {
     "name": "stdout",
     "output_type": "stream",
     "text": [
      "Epoch 84, Test loss 0.0903, Train loss 0.0929\n"
     ]
    },
    {
     "data": {
      "application/vnd.jupyter.widget-view+json": {
       "model_id": "8968cfd67b934e0eb6820338cff78cd1",
       "version_major": 2,
       "version_minor": 0
      },
      "text/plain": [
       "  0%|          | 0/88 [00:00<?, ?it/s]"
      ]
     },
     "metadata": {},
     "output_type": "display_data"
    },
    {
     "name": "stdout",
     "output_type": "stream",
     "text": [
      "Epoch 85, Test loss 0.0942, Train loss 0.0956\n"
     ]
    },
    {
     "data": {
      "application/vnd.jupyter.widget-view+json": {
       "model_id": "e0b950d1401b4ef8ae88189d111b19a7",
       "version_major": 2,
       "version_minor": 0
      },
      "text/plain": [
       "  0%|          | 0/88 [00:00<?, ?it/s]"
      ]
     },
     "metadata": {},
     "output_type": "display_data"
    },
    {
     "name": "stdout",
     "output_type": "stream",
     "text": [
      "Epoch 86, Test loss 0.0910, Train loss 0.0917\n"
     ]
    },
    {
     "data": {
      "application/vnd.jupyter.widget-view+json": {
       "model_id": "a3759d4821294f6582144566bd45bbd4",
       "version_major": 2,
       "version_minor": 0
      },
      "text/plain": [
       "  0%|          | 0/88 [00:00<?, ?it/s]"
      ]
     },
     "metadata": {},
     "output_type": "display_data"
    },
    {
     "name": "stdout",
     "output_type": "stream",
     "text": [
      "Epoch 87, Test loss 0.0912, Train loss 0.0922\n"
     ]
    },
    {
     "data": {
      "application/vnd.jupyter.widget-view+json": {
       "model_id": "326461bc92e341cebf8fd21fc17489aa",
       "version_major": 2,
       "version_minor": 0
      },
      "text/plain": [
       "  0%|          | 0/88 [00:00<?, ?it/s]"
      ]
     },
     "metadata": {},
     "output_type": "display_data"
    },
    {
     "name": "stdout",
     "output_type": "stream",
     "text": [
      "Epoch 88, Test loss 0.0944, Train loss 0.0931\n"
     ]
    },
    {
     "data": {
      "application/vnd.jupyter.widget-view+json": {
       "model_id": "2e9a479f0b924e01a87f4bdf493d5137",
       "version_major": 2,
       "version_minor": 0
      },
      "text/plain": [
       "  0%|          | 0/88 [00:00<?, ?it/s]"
      ]
     },
     "metadata": {},
     "output_type": "display_data"
    },
    {
     "name": "stdout",
     "output_type": "stream",
     "text": [
      "Epoch 89, Test loss 0.0911, Train loss 0.0913\n"
     ]
    },
    {
     "data": {
      "application/vnd.jupyter.widget-view+json": {
       "model_id": "d8f0b1e8bc2742a8a8e88962c7bb091a",
       "version_major": 2,
       "version_minor": 0
      },
      "text/plain": [
       "  0%|          | 0/88 [00:00<?, ?it/s]"
      ]
     },
     "metadata": {},
     "output_type": "display_data"
    },
    {
     "name": "stdout",
     "output_type": "stream",
     "text": [
      "Epoch 90, Test loss 0.0908, Train loss 0.0937\n"
     ]
    },
    {
     "data": {
      "application/vnd.jupyter.widget-view+json": {
       "model_id": "fd2ee9abd87a48fcab97546a8eae15f6",
       "version_major": 2,
       "version_minor": 0
      },
      "text/plain": [
       "  0%|          | 0/88 [00:00<?, ?it/s]"
      ]
     },
     "metadata": {},
     "output_type": "display_data"
    },
    {
     "name": "stdout",
     "output_type": "stream",
     "text": [
      "Epoch 91, Test loss 0.0898, Train loss 0.0928\n"
     ]
    },
    {
     "data": {
      "application/vnd.jupyter.widget-view+json": {
       "model_id": "18c9980cda464534bfb63937e5994a2d",
       "version_major": 2,
       "version_minor": 0
      },
      "text/plain": [
       "  0%|          | 0/88 [00:00<?, ?it/s]"
      ]
     },
     "metadata": {},
     "output_type": "display_data"
    },
    {
     "name": "stdout",
     "output_type": "stream",
     "text": [
      "Epoch 92, Test loss 0.0933, Train loss 0.0924\n"
     ]
    },
    {
     "data": {
      "application/vnd.jupyter.widget-view+json": {
       "model_id": "5a44b3b1d1f54467a7b8f054f3371583",
       "version_major": 2,
       "version_minor": 0
      },
      "text/plain": [
       "  0%|          | 0/88 [00:00<?, ?it/s]"
      ]
     },
     "metadata": {},
     "output_type": "display_data"
    },
    {
     "name": "stdout",
     "output_type": "stream",
     "text": [
      "Epoch 93, Test loss 0.0915, Train loss 0.0920\n"
     ]
    },
    {
     "data": {
      "application/vnd.jupyter.widget-view+json": {
       "model_id": "3da36ee77416475587d140eba947518c",
       "version_major": 2,
       "version_minor": 0
      },
      "text/plain": [
       "  0%|          | 0/88 [00:00<?, ?it/s]"
      ]
     },
     "metadata": {},
     "output_type": "display_data"
    },
    {
     "name": "stdout",
     "output_type": "stream",
     "text": [
      "Epoch 94, Test loss 0.0920, Train loss 0.0925\n"
     ]
    },
    {
     "data": {
      "application/vnd.jupyter.widget-view+json": {
       "model_id": "6d206859b1be475f9fa29f2577ac8ed8",
       "version_major": 2,
       "version_minor": 0
      },
      "text/plain": [
       "  0%|          | 0/88 [00:00<?, ?it/s]"
      ]
     },
     "metadata": {},
     "output_type": "display_data"
    },
    {
     "name": "stdout",
     "output_type": "stream",
     "text": [
      "Epoch 95, Test loss 0.0923, Train loss 0.0913\n"
     ]
    },
    {
     "data": {
      "application/vnd.jupyter.widget-view+json": {
       "model_id": "3fecf09982e74fc29f01884e4e34a95a",
       "version_major": 2,
       "version_minor": 0
      },
      "text/plain": [
       "  0%|          | 0/88 [00:00<?, ?it/s]"
      ]
     },
     "metadata": {},
     "output_type": "display_data"
    },
    {
     "name": "stdout",
     "output_type": "stream",
     "text": [
      "Epoch 96, Test loss 0.0919, Train loss 0.0929\n"
     ]
    },
    {
     "data": {
      "application/vnd.jupyter.widget-view+json": {
       "model_id": "bf1aa27d2118437fafc4b0e365384f32",
       "version_major": 2,
       "version_minor": 0
      },
      "text/plain": [
       "  0%|          | 0/88 [00:00<?, ?it/s]"
      ]
     },
     "metadata": {},
     "output_type": "display_data"
    },
    {
     "name": "stdout",
     "output_type": "stream",
     "text": [
      "Epoch 97, Test loss 0.0887, Train loss 0.0917\n"
     ]
    },
    {
     "data": {
      "application/vnd.jupyter.widget-view+json": {
       "model_id": "49913021190a4b4ba8464a9e977ddf3a",
       "version_major": 2,
       "version_minor": 0
      },
      "text/plain": [
       "  0%|          | 0/88 [00:00<?, ?it/s]"
      ]
     },
     "metadata": {},
     "output_type": "display_data"
    },
    {
     "name": "stdout",
     "output_type": "stream",
     "text": [
      "Epoch 98, Test loss 0.0943, Train loss 0.0915\n"
     ]
    },
    {
     "data": {
      "application/vnd.jupyter.widget-view+json": {
       "model_id": "130fcc528a3f40d596586ca93e9be6b2",
       "version_major": 2,
       "version_minor": 0
      },
      "text/plain": [
       "  0%|          | 0/88 [00:00<?, ?it/s]"
      ]
     },
     "metadata": {},
     "output_type": "display_data"
    },
    {
     "name": "stdout",
     "output_type": "stream",
     "text": [
      "Epoch 99, Test loss 0.0921, Train loss 0.0916\n"
     ]
    }
   ],
   "source": [
    "# wandb_run = wandb.init(project='check_norms', name='first_run', reinit=True)\n",
    "wandb_run = None\n",
    "\n",
    "device = torch.device(\"cuda\" if torch.cuda.is_available() else \"cpu\")\n",
    "\n",
    "STATE_DIM = 5\n",
    "input_dim = n_obs_history * STATE_DIM\n",
    "hidden_dim = 512\n",
    "n_hidden_layers = 4\n",
    "\n",
    "mlp = MLP(input_dim, hidden_dim, n_hidden_layers, timestep_dim=1).to(device)\n",
    "model = Diffusion(mlp, (n_obs_history, STATE_DIM))\n",
    "\n",
    "train_losses, test_losses = train_epochs(\n",
    "    model,\n",
    "    train_loader,\n",
    "    val_loader,\n",
    "    dict(epochs=100, lr=1e-3, warmup=100, use_cos_decay=True),\n",
    ")"
   ]
  },
  {
   "cell_type": "code",
   "execution_count": 65,
   "id": "cd540615",
   "metadata": {},
   "outputs": [
    {
     "data": {
      "image/png": "[encoded data removed]",
      "text/plain": [
       "<Figure size 1200x600 with 1 Axes>"
      ]
     },
     "metadata": {},
     "output_type": "display_data"
    }
   ],
   "source": [
    "plot_losses(train_losses, test_losses)"
   ]
  },
  {
   "cell_type": "code",
   "execution_count": 66,
   "id": "874b2152",
   "metadata": {},
   "outputs": [],
   "source": [
    "# Save the model\n",
    "# save_dir = \"models/diffusion/pusht_mlp_5x512/2024-04-15\"\n",
    "save_dir = None\n",
    "if save_dir is not None:\n",
    "    os.makedirs(save_dir, exist_ok=False)\n",
    "    diffusion.save(os.path.join(save_dir, \"diffusion_model_final.pt\"))\n",
    "    np.save(os.path.join(save_dir, \"train_losses.npy\"), train_losses)\n",
    "    np.save(os.path.join(save_dir, \"test_losses.npy\"), test_losses)"
   ]
  },
  {
   "cell_type": "markdown",
   "id": "c6c38a2d",
   "metadata": {},
   "source": [
    "## Sample"
   ]
  },
  {
   "cell_type": "code",
   "execution_count": 67,
   "id": "ae7f5b58",
   "metadata": {},
   "outputs": [],
   "source": [
    "num_samples = 10000\n",
    "num_steps_list = [512]\n",
    "normalized_samples = []\n",
    "clip_noise = (-3, 3)\n",
    "for num_steps in num_steps_list:\n",
    "    normalized_samples.append(\n",
    "        model.sample(\n",
    "            num_samples, num_steps=num_steps, clip_denoised=True, clip_noise=clip_noise\n",
    "        )\n",
    "        .cpu()\n",
    "        .numpy()\n",
    "    )\n",
    "normalized_samples = np.stack(normalized_samples, axis=0)"
   ]
  },
  {
   "cell_type": "code",
   "execution_count": 68,
   "id": "373453c9",
   "metadata": {},
   "outputs": [
    {
     "name": "stdout",
     "output_type": "stream",
     "text": [
      "nan nan\n",
      "-0.99981964 1.000333\n"
     ]
    }
   ],
   "source": [
    "# TODO: remove NaNs?\n",
    "for norm_samples_i in normalized_samples:\n",
    "    print(norm_samples_i.min(), norm_samples_i.max())\n",
    "    print(\n",
    "        norm_samples_i[~np.isnan(norm_samples_i)].min(),\n",
    "        norm_samples_i[~np.isnan(norm_samples_i)].max(),\n",
    "    )"
   ]
  },
  {
   "cell_type": "code",
   "execution_count": 69,
   "id": "e874ce11",
   "metadata": {},
   "outputs": [],
   "source": [
    "samples = denormalize_pn1(normalized_samples, min_state, max_state)"
   ]
  },
  {
   "cell_type": "code",
   "execution_count": 70,
   "id": "611244fd",
   "metadata": {},
   "outputs": [
    {
     "name": "stdout",
     "output_type": "stream",
     "text": [
      "nan nan\n",
      "0.0005666203 510.9848\n"
     ]
    }
   ],
   "source": [
    "# TODO: remove NaNs?\n",
    "for samples_i in samples:\n",
    "    print(samples_i.min(), samples_i.max())\n",
    "    print(\n",
    "        samples_i[~np.isnan(samples_i)].min(),\n",
    "        samples_i[~np.isnan(samples_i)].max(),\n",
    "    )"
   ]
  },
  {
   "cell_type": "code",
   "execution_count": 71,
   "id": "3c9f0912",
   "metadata": {},
   "outputs": [
    {
     "data": {
      "image/png": "[encoded data removed]",
      "text/plain": [
       "<Figure size 1200x1200 with 25 Axes>"
      ]
     },
     "metadata": {},
     "output_type": "display_data"
    }
   ],
   "source": [
    "# Plot histogram of each dimension of the samples\n",
    "for i, steps in enumerate(num_steps_list):\n",
    "    step_samples = samples[i]  # [num_samples, n_history, dim]\n",
    "    n_history = step_samples.shape[1]\n",
    "    dim = step_samples.shape[2]\n",
    "\n",
    "    fig, ax = plt.subplots(n_history, dim, figsize=(12, 12))\n",
    "\n",
    "    for i in range(n_history):\n",
    "        for j in range(dim):\n",
    "\n",
    "            ax[i, j].hist(\n",
    "                step_samples[:, i, j],\n",
    "                density=True,\n",
    "                bins=50,\n",
    "                color=\"blue\",\n",
    "                alpha=0.5,\n",
    "                # label=f\"samples {i}\",\n",
    "            )\n",
    "            ax[i, j].hist(\n",
    "                dataset.replay_buffer[\"state\"][:, j],\n",
    "                density=True,\n",
    "                bins=50,\n",
    "                color=\"green\",\n",
    "                alpha=0.5,\n",
    "                # label=f\"replay {i}\",\n",
    "            )\n",
    "            ax[i, j].set_title(f\"History {i}, Dim {j}\")\n",
    "            # ax[i, j].legend()\n",
    "\n",
    "    fig.suptitle(f\"{steps} steps\")\n",
    "    plt.show()"
   ]
  },
  {
   "cell_type": "code",
   "execution_count": 72,
   "id": "44e2a18a",
   "metadata": {},
   "outputs": [],
   "source": [
    "diff_states = []\n",
    "for obs_history, pred_horizon in train_loader:\n",
    "    state = obs_history[\"state\"].detach().cpu().numpy()\n",
    "    diff_states.append(np.diff(state, axis=1))\n",
    "\n",
    "diff_states = np.concatenate(diff_states, axis=0)"
   ]
  },
  {
   "cell_type": "code",
   "execution_count": 73,
   "id": "4be46082",
   "metadata": {},
   "outputs": [],
   "source": [
    "diff_samples = np.diff(samples, axis=2)"
   ]
  },
  {
   "cell_type": "code",
   "execution_count": 74,
   "id": "c41a3864",
   "metadata": {},
   "outputs": [],
   "source": [
    "nan_exists = np.isnan(diff_samples).any(axis=(2, 3))\n",
    "diff_samples_no_nan = diff_samples[:, ~nan_exists[0]]"
   ]
  },
  {
   "cell_type": "code",
   "execution_count": 75,
   "id": "8af39a02",
   "metadata": {},
   "outputs": [
    {
     "data": {
      "image/png": "[encoded data removed]",
      "text/plain": [
       "<Figure size 1200x1200 with 20 Axes>"
      ]
     },
     "metadata": {},
     "output_type": "display_data"
    }
   ],
   "source": [
    "# Plot histogram of each dimension of the samples\n",
    "for i, steps in enumerate(num_steps_list):\n",
    "    step_diff_samples = diff_samples_no_nan[i]  # [num_samples, n_history, dim]\n",
    "    n_history = step_diff_samples.shape[1]\n",
    "    dim = step_diff_samples.shape[2]\n",
    "\n",
    "    fig, axs = plt.subplots(n_history, dim, figsize=(12, 12))\n",
    "\n",
    "    for i in range(n_history):\n",
    "        for j in range(dim):\n",
    "            ax = axs[i, j]\n",
    "            ax.hist(\n",
    "                step_diff_samples[:, i, j],\n",
    "                density=True,\n",
    "                bins=50,\n",
    "                color=\"blue\",\n",
    "                alpha=0.5,\n",
    "                # label=f\"samples {i}\",\n",
    "            )\n",
    "\n",
    "            ax.set_title(f\"History {i}, Dim {j}\")\n",
    "            # ax.legend()\n",
    "\n",
    "    fig.suptitle(f\"{steps} steps\")\n",
    "    plt.show()"
   ]
  },
  {
   "cell_type": "code",
   "execution_count": 56,
   "id": "d029b180",
   "metadata": {},
   "outputs": [
    {
     "data": {
      "image/png": "[encoded data removed]",
      "text/plain": [
       "<Figure size 1200x1200 with 20 Axes>"
      ]
     },
     "metadata": {},
     "output_type": "display_data"
    }
   ],
   "source": [
    "# Plot histogram of each dimension of the samples\n",
    "for i, steps in enumerate(num_steps_list):\n",
    "    step_diff_samples = diff_samples_no_nan[i]  # [num_samples, n_history, dim]\n",
    "    n_history = step_diff_samples.shape[1]\n",
    "    dim = step_diff_samples.shape[2]\n",
    "\n",
    "    fig, axs = plt.subplots(n_history, dim, figsize=(12, 12))\n",
    "\n",
    "    for i in range(n_history):\n",
    "        for j in range(dim):\n",
    "            ax = axs[i, j]\n",
    "            ax.hist(\n",
    "                diff_states[:, i, j],\n",
    "                density=True,\n",
    "                bins=50,\n",
    "                color=\"green\",\n",
    "                alpha=0.5,\n",
    "                # label=f\"replay {i}\",\n",
    "            )\n",
    "\n",
    "            # ax.set_title(f\"History {i}, Dim {j}\")\n",
    "            # ax.legend()\n",
    "\n",
    "    fig.suptitle(f\"{steps} steps\")\n",
    "    plt.show()"
   ]
  },
  {
   "cell_type": "markdown",
   "id": "961848fd",
   "metadata": {},
   "source": [
    "### Debug sampling"
   ]
  },
  {
   "cell_type": "code",
   "execution_count": null,
   "id": "6bf88f6b",
   "metadata": {},
   "outputs": [
    {
     "name": "stdout",
     "output_type": "stream",
     "text": [
      "tensor(14.9996, device='cuda:0', grad_fn=<LinalgVectorNormBackward0>)\n",
      "tensor(3.5165, device='cuda:0', grad_fn=<LinalgVectorNormBackward0>)\n",
      "tensor(18.1615, device='cuda:0', grad_fn=<LinalgVectorNormBackward0>)\n",
      "tensor(0.8481, device='cuda:0', grad_fn=<LinalgVectorNormBackward0>)\n",
      "tensor(17.6145, device='cuda:0', grad_fn=<LinalgVectorNormBackward0>)\n",
      "tensor(0.7344, device='cuda:0', grad_fn=<LinalgVectorNormBackward0>)\n",
      "tensor(16.9889, device='cuda:0', grad_fn=<LinalgVectorNormBackward0>)\n",
      "tensor(0.7030, device='cuda:0', grad_fn=<LinalgVectorNormBackward0>)\n",
      "tensor(4.4330, device='cuda:0', grad_fn=<LinalgVectorNormBackward0>)\n",
      "tensor(0.1216, device='cuda:0', grad_fn=<LinalgVectorNormBackward0>)\n"
     ]
    }
   ],
   "source": [
    "for p in diffusion.model.parameters():\n",
    "    # print(p)\n",
    "    if torch.isnan(p).any():\n",
    "        print(\"NaNs in the parameters.\")\n",
    "    else:\n",
    "        param_norm = p.norm(2)\n",
    "        print(param_norm)"
   ]
  }
 ],
 "metadata": {
  "kernelspec": {
   "display_name": "base",
   "language": "python",
   "name": "python3"
  },
  "language_info": {
   "codemirror_mode": {
    "name": "ipython",
    "version": 3
   },
   "file_extension": ".py",
   "mimetype": "text/x-python",
   "name": "python",
   "nbconvert_exporter": "python",
   "pygments_lexer": "ipython3",
   "version": "3.9.18"
  }
 },
 "nbformat": 4,
 "nbformat_minor": 5
}
